{
 "cells": [
  {
   "cell_type": "markdown",
   "id": "2f00d182-927d-46aa-a40c-5b0a372e0e67",
   "metadata": {},
   "source": [
    "# PART 1: LOAD AND CLEAN DATA"
   ]
  },
  {
   "cell_type": "markdown",
   "id": "a0285224-c5e4-4b14-b166-ed183b454deb",
   "metadata": {},
   "source": [
    "https://www.kaggle.com/datasets/rkiattisak/salaly-prediction-for-beginer\n",
    "\n",
    "Question: what affects on the salary?"
   ]
  },
  {
   "cell_type": "code",
   "execution_count": 129,
   "id": "c0d79b5b-41de-4a20-b945-50c2b0929eee",
   "metadata": {},
   "outputs": [],
   "source": [
    "# the usual imports\n",
    "import pandas as pd\n",
    "import numpy as np\n",
    "import matplotlib.pyplot as plt\n",
    "import seaborn as sns\n",
    "from sklearn.model_selection import train_test_split\n",
    "from sklearn.linear_model import LinearRegression\n",
    "from sklearn import metrics"
   ]
  },
  {
   "cell_type": "code",
   "execution_count": 130,
   "id": "a07fe19e-6634-41ab-918c-d020644c1b89",
   "metadata": {},
   "outputs": [],
   "source": [
    "df = pd.read_csv(\"Salary Data.csv\")"
   ]
  },
  {
   "cell_type": "code",
   "execution_count": 131,
   "id": "16171bb6-5ee4-4a87-8bb5-41e03d7e659d",
   "metadata": {},
   "outputs": [
    {
     "data": {
      "text/html": [
       "<div>\n",
       "<style scoped>\n",
       "    .dataframe tbody tr th:only-of-type {\n",
       "        vertical-align: middle;\n",
       "    }\n",
       "\n",
       "    .dataframe tbody tr th {\n",
       "        vertical-align: top;\n",
       "    }\n",
       "\n",
       "    .dataframe thead th {\n",
       "        text-align: right;\n",
       "    }\n",
       "</style>\n",
       "<table border=\"1\" class=\"dataframe\">\n",
       "  <thead>\n",
       "    <tr style=\"text-align: right;\">\n",
       "      <th></th>\n",
       "      <th>Age</th>\n",
       "      <th>Gender</th>\n",
       "      <th>Education Level</th>\n",
       "      <th>Job Title</th>\n",
       "      <th>Years of Experience</th>\n",
       "      <th>Salary</th>\n",
       "    </tr>\n",
       "  </thead>\n",
       "  <tbody>\n",
       "    <tr>\n",
       "      <th>0</th>\n",
       "      <td>32.0</td>\n",
       "      <td>Male</td>\n",
       "      <td>Bachelor's</td>\n",
       "      <td>Software Engineer</td>\n",
       "      <td>5.0</td>\n",
       "      <td>90000.0</td>\n",
       "    </tr>\n",
       "    <tr>\n",
       "      <th>1</th>\n",
       "      <td>28.0</td>\n",
       "      <td>Female</td>\n",
       "      <td>Master's</td>\n",
       "      <td>Data Analyst</td>\n",
       "      <td>3.0</td>\n",
       "      <td>65000.0</td>\n",
       "    </tr>\n",
       "    <tr>\n",
       "      <th>2</th>\n",
       "      <td>45.0</td>\n",
       "      <td>Male</td>\n",
       "      <td>PhD</td>\n",
       "      <td>Senior Manager</td>\n",
       "      <td>15.0</td>\n",
       "      <td>150000.0</td>\n",
       "    </tr>\n",
       "    <tr>\n",
       "      <th>3</th>\n",
       "      <td>36.0</td>\n",
       "      <td>Female</td>\n",
       "      <td>Bachelor's</td>\n",
       "      <td>Sales Associate</td>\n",
       "      <td>7.0</td>\n",
       "      <td>60000.0</td>\n",
       "    </tr>\n",
       "    <tr>\n",
       "      <th>4</th>\n",
       "      <td>52.0</td>\n",
       "      <td>Male</td>\n",
       "      <td>Master's</td>\n",
       "      <td>Director</td>\n",
       "      <td>20.0</td>\n",
       "      <td>200000.0</td>\n",
       "    </tr>\n",
       "  </tbody>\n",
       "</table>\n",
       "</div>"
      ],
      "text/plain": [
       "    Age  Gender Education Level          Job Title  Years of Experience  \\\n",
       "0  32.0    Male      Bachelor's  Software Engineer                  5.0   \n",
       "1  28.0  Female        Master's       Data Analyst                  3.0   \n",
       "2  45.0    Male             PhD     Senior Manager                 15.0   \n",
       "3  36.0  Female      Bachelor's    Sales Associate                  7.0   \n",
       "4  52.0    Male        Master's           Director                 20.0   \n",
       "\n",
       "     Salary  \n",
       "0   90000.0  \n",
       "1   65000.0  \n",
       "2  150000.0  \n",
       "3   60000.0  \n",
       "4  200000.0  "
      ]
     },
     "execution_count": 131,
     "metadata": {},
     "output_type": "execute_result"
    }
   ],
   "source": [
    "df.head()\n",
    "\n",
    "# Gender --> 1 or 0\n",
    "# Education Level --> check unique values and change to numeric\n",
    "# Job Title --> check unique values and try to make classification"
   ]
  },
  {
   "cell_type": "code",
   "execution_count": 132,
   "id": "69b2200e-6839-41b4-8087-5fc2df488a28",
   "metadata": {},
   "outputs": [
    {
     "data": {
      "text/html": [
       "<div>\n",
       "<style scoped>\n",
       "    .dataframe tbody tr th:only-of-type {\n",
       "        vertical-align: middle;\n",
       "    }\n",
       "\n",
       "    .dataframe tbody tr th {\n",
       "        vertical-align: top;\n",
       "    }\n",
       "\n",
       "    .dataframe thead th {\n",
       "        text-align: right;\n",
       "    }\n",
       "</style>\n",
       "<table border=\"1\" class=\"dataframe\">\n",
       "  <thead>\n",
       "    <tr style=\"text-align: right;\">\n",
       "      <th></th>\n",
       "      <th>Age</th>\n",
       "      <th>Years of Experience</th>\n",
       "      <th>Salary</th>\n",
       "    </tr>\n",
       "  </thead>\n",
       "  <tbody>\n",
       "    <tr>\n",
       "      <th>count</th>\n",
       "      <td>373.000000</td>\n",
       "      <td>373.000000</td>\n",
       "      <td>373.000000</td>\n",
       "    </tr>\n",
       "    <tr>\n",
       "      <th>mean</th>\n",
       "      <td>37.431635</td>\n",
       "      <td>10.030831</td>\n",
       "      <td>100577.345845</td>\n",
       "    </tr>\n",
       "    <tr>\n",
       "      <th>std</th>\n",
       "      <td>7.069073</td>\n",
       "      <td>6.557007</td>\n",
       "      <td>48240.013482</td>\n",
       "    </tr>\n",
       "    <tr>\n",
       "      <th>min</th>\n",
       "      <td>23.000000</td>\n",
       "      <td>0.000000</td>\n",
       "      <td>350.000000</td>\n",
       "    </tr>\n",
       "    <tr>\n",
       "      <th>25%</th>\n",
       "      <td>31.000000</td>\n",
       "      <td>4.000000</td>\n",
       "      <td>55000.000000</td>\n",
       "    </tr>\n",
       "    <tr>\n",
       "      <th>50%</th>\n",
       "      <td>36.000000</td>\n",
       "      <td>9.000000</td>\n",
       "      <td>95000.000000</td>\n",
       "    </tr>\n",
       "    <tr>\n",
       "      <th>75%</th>\n",
       "      <td>44.000000</td>\n",
       "      <td>15.000000</td>\n",
       "      <td>140000.000000</td>\n",
       "    </tr>\n",
       "    <tr>\n",
       "      <th>max</th>\n",
       "      <td>53.000000</td>\n",
       "      <td>25.000000</td>\n",
       "      <td>250000.000000</td>\n",
       "    </tr>\n",
       "  </tbody>\n",
       "</table>\n",
       "</div>"
      ],
      "text/plain": [
       "              Age  Years of Experience         Salary\n",
       "count  373.000000           373.000000     373.000000\n",
       "mean    37.431635            10.030831  100577.345845\n",
       "std      7.069073             6.557007   48240.013482\n",
       "min     23.000000             0.000000     350.000000\n",
       "25%     31.000000             4.000000   55000.000000\n",
       "50%     36.000000             9.000000   95000.000000\n",
       "75%     44.000000            15.000000  140000.000000\n",
       "max     53.000000            25.000000  250000.000000"
      ]
     },
     "execution_count": 132,
     "metadata": {},
     "output_type": "execute_result"
    }
   ],
   "source": [
    "df.describe()"
   ]
  },
  {
   "cell_type": "code",
   "execution_count": 133,
   "id": "8006bd14-cc5c-47b7-840e-ec66363426bb",
   "metadata": {},
   "outputs": [
    {
     "data": {
      "text/plain": [
       "50"
      ]
     },
     "execution_count": 133,
     "metadata": {},
     "output_type": "execute_result"
    }
   ],
   "source": [
    "# check duplicates\n",
    "df.duplicated().sum()\n",
    "\n",
    "# I think, it does not matter becuase\n",
    "# it is very possible that people with same background \n",
    "# have the same salary on the same positions"
   ]
  },
  {
   "cell_type": "code",
   "execution_count": 134,
   "id": "14a1a49d-6378-4081-bc8a-c1c6ddaf30c2",
   "metadata": {},
   "outputs": [
    {
     "data": {
      "text/plain": [
       "Age                    2\n",
       "Gender                 2\n",
       "Education Level        2\n",
       "Job Title              2\n",
       "Years of Experience    2\n",
       "Salary                 2\n",
       "dtype: int64"
      ]
     },
     "execution_count": 134,
     "metadata": {},
     "output_type": "execute_result"
    }
   ],
   "source": [
    "# check NaN values\n",
    "df.isna().sum()"
   ]
  },
  {
   "cell_type": "code",
   "execution_count": 135,
   "id": "9baffbe1-770b-4635-8df0-bc2ed9a0215d",
   "metadata": {},
   "outputs": [],
   "source": [
    "#drop NaN values\n",
    "df = df.dropna()"
   ]
  },
  {
   "cell_type": "code",
   "execution_count": 136,
   "id": "82e2b6e5-a042-4f8c-96f4-631c87901165",
   "metadata": {},
   "outputs": [],
   "source": [
    "# Gender --> 1 or 0\n",
    "from sklearn.preprocessing import LabelEncoder\n",
    "variables = ['Gender']\n",
    "encoder = LabelEncoder()\n",
    "\n",
    "# apply the LabelEncoder to specific columns in our DataFrame (see variables above)\n",
    "df[variables] = df[variables].apply(encoder.fit_transform)"
   ]
  },
  {
   "cell_type": "code",
   "execution_count": 137,
   "id": "d88eee6a-f6b1-400e-ba02-00dbca2e8020",
   "metadata": {},
   "outputs": [
    {
     "data": {
      "text/plain": [
       "array([\"Bachelor's\", \"Master's\", 'PhD'], dtype=object)"
      ]
     },
     "execution_count": 137,
     "metadata": {},
     "output_type": "execute_result"
    }
   ],
   "source": [
    "# Education Level --> check unique values and change to numeric\n",
    "unique_values = df['Education Level'].unique()\n",
    "unique_values"
   ]
  },
  {
   "cell_type": "code",
   "execution_count": 138,
   "id": "ba243fdd-12ca-4a9b-a9a8-95082cb044d2",
   "metadata": {},
   "outputs": [],
   "source": [
    "# pandas get_dummies to change data to numeric\n",
    "variable = 'Education Level'\n",
    "dummies = pd.get_dummies(df[variable]).astype(int)\n",
    "df = pd.concat([df, dummies], axis=1).drop(columns=variable)"
   ]
  },
  {
   "cell_type": "code",
   "execution_count": 139,
   "id": "16826f6f-68b2-4f9c-a7f2-5a1efad6a46a",
   "metadata": {},
   "outputs": [],
   "source": [
    "# drop the last column\n",
    "columns_to_drop = [\"PhD\"]\n",
    "df = df.drop(columns=columns_to_drop)"
   ]
  },
  {
   "cell_type": "code",
   "execution_count": 140,
   "id": "eee72e05-3c27-4d7b-8175-7e7e4da3ee31",
   "metadata": {},
   "outputs": [],
   "source": [
    "# Rename the columns\n",
    "# otherwise, I struggle with these different commas\n",
    "df = df.rename(columns={\"Bachelor's\": \"Bachelors\", \"Master's\": \"Masters\"})"
   ]
  },
  {
   "cell_type": "code",
   "execution_count": 141,
   "id": "3a9ed5ab-87c9-434e-8a63-57836793f838",
   "metadata": {},
   "outputs": [
    {
     "data": {
      "text/plain": [
       "174"
      ]
     },
     "execution_count": 141,
     "metadata": {},
     "output_type": "execute_result"
    }
   ],
   "source": [
    "# Job Title --> check unique values and try to make classification\n",
    "unique_values_count = df['Job Title'].nunique()\n",
    "unique_values_count"
   ]
  },
  {
   "cell_type": "code",
   "execution_count": 142,
   "id": "613cf8dd-242e-4708-9eeb-7976da09fc2c",
   "metadata": {},
   "outputs": [
    {
     "data": {
      "text/plain": [
       "array(['Software Engineer', 'Data Analyst', 'Senior Manager',\n",
       "       'Sales Associate', 'Director', 'Marketing Analyst',\n",
       "       'Product Manager', 'Sales Manager', 'Marketing Coordinator',\n",
       "       'Senior Scientist', 'Software Developer', 'HR Manager',\n",
       "       'Financial Analyst', 'Project Manager', 'Customer Service Rep',\n",
       "       'Operations Manager', 'Marketing Manager', 'Senior Engineer',\n",
       "       'Data Entry Clerk', 'Sales Director', 'Business Analyst',\n",
       "       'VP of Operations', 'IT Support', 'Recruiter', 'Financial Manager',\n",
       "       'Social Media Specialist', 'Software Manager', 'Junior Developer',\n",
       "       'Senior Consultant', 'Product Designer', 'CEO', 'Accountant',\n",
       "       'Data Scientist', 'Marketing Specialist', 'Technical Writer',\n",
       "       'HR Generalist', 'Project Engineer', 'Customer Success Rep',\n",
       "       'Sales Executive', 'UX Designer', 'Operations Director',\n",
       "       'Network Engineer', 'Administrative Assistant',\n",
       "       'Strategy Consultant', 'Copywriter', 'Account Manager',\n",
       "       'Director of Marketing', 'Help Desk Analyst',\n",
       "       'Customer Service Manager', 'Business Intelligence Analyst',\n",
       "       'Event Coordinator', 'VP of Finance', 'Graphic Designer',\n",
       "       'UX Researcher', 'Social Media Manager', 'Director of Operations',\n",
       "       'Senior Data Scientist', 'Junior Accountant',\n",
       "       'Digital Marketing Manager', 'IT Manager',\n",
       "       'Customer Service Representative', 'Business Development Manager',\n",
       "       'Senior Financial Analyst', 'Web Developer', 'Research Director',\n",
       "       'Technical Support Specialist', 'Creative Director',\n",
       "       'Senior Software Engineer', 'Human Resources Director',\n",
       "       'Content Marketing Manager', 'Technical Recruiter',\n",
       "       'Sales Representative', 'Chief Technology Officer',\n",
       "       'Junior Designer', 'Financial Advisor', 'Junior Account Manager',\n",
       "       'Senior Project Manager', 'Principal Scientist',\n",
       "       'Supply Chain Manager', 'Senior Marketing Manager',\n",
       "       'Training Specialist', 'Research Scientist',\n",
       "       'Junior Software Developer', 'Public Relations Manager',\n",
       "       'Operations Analyst', 'Product Marketing Manager',\n",
       "       'Senior HR Manager', 'Junior Web Developer',\n",
       "       'Senior Project Coordinator', 'Chief Data Officer',\n",
       "       'Digital Content Producer', 'IT Support Specialist',\n",
       "       'Senior Marketing Analyst', 'Customer Success Manager',\n",
       "       'Senior Graphic Designer', 'Software Project Manager',\n",
       "       'Supply Chain Analyst', 'Senior Business Analyst',\n",
       "       'Junior Marketing Analyst', 'Office Manager', 'Principal Engineer',\n",
       "       'Junior HR Generalist', 'Senior Product Manager',\n",
       "       'Junior Operations Analyst', 'Senior HR Generalist',\n",
       "       'Sales Operations Manager', 'Senior Software Developer',\n",
       "       'Junior Web Designer', 'Senior Training Specialist',\n",
       "       'Senior Research Scientist', 'Junior Sales Representative',\n",
       "       'Junior Marketing Manager', 'Junior Data Analyst',\n",
       "       'Senior Product Marketing Manager', 'Junior Business Analyst',\n",
       "       'Senior Sales Manager', 'Junior Marketing Specialist',\n",
       "       'Junior Project Manager', 'Senior Accountant', 'Director of Sales',\n",
       "       'Junior Recruiter', 'Senior Business Development Manager',\n",
       "       'Senior Product Designer', 'Junior Customer Support Specialist',\n",
       "       'Senior IT Support Specialist', 'Junior Financial Analyst',\n",
       "       'Senior Operations Manager', 'Director of Human Resources',\n",
       "       'Junior Software Engineer', 'Senior Sales Representative',\n",
       "       'Director of Product Management', 'Junior Copywriter',\n",
       "       'Senior Marketing Coordinator', 'Senior Human Resources Manager',\n",
       "       'Junior Business Development Associate', 'Senior Account Manager',\n",
       "       'Senior Researcher', 'Junior HR Coordinator',\n",
       "       'Director of Finance', 'Junior Marketing Coordinator',\n",
       "       'Junior Data Scientist', 'Senior Operations Analyst',\n",
       "       'Senior Human Resources Coordinator', 'Senior UX Designer',\n",
       "       'Junior Product Manager', 'Senior Marketing Specialist',\n",
       "       'Senior IT Project Manager', 'Senior Quality Assurance Analyst',\n",
       "       'Director of Sales and Marketing', 'Senior Account Executive',\n",
       "       'Director of Business Development', 'Junior Social Media Manager',\n",
       "       'Senior Human Resources Specialist', 'Senior Data Analyst',\n",
       "       'Director of Human Capital', 'Junior Advertising Coordinator',\n",
       "       'Junior UX Designer', 'Senior Marketing Director',\n",
       "       'Senior IT Consultant', 'Senior Financial Advisor',\n",
       "       'Junior Business Operations Analyst',\n",
       "       'Junior Social Media Specialist',\n",
       "       'Senior Product Development Manager', 'Junior Operations Manager',\n",
       "       'Senior Software Architect', 'Junior Research Scientist',\n",
       "       'Senior Financial Manager', 'Senior HR Specialist',\n",
       "       'Senior Data Engineer', 'Junior Operations Coordinator',\n",
       "       'Director of HR', 'Senior Operations Coordinator',\n",
       "       'Junior Financial Advisor', 'Director of Engineering'],\n",
       "      dtype=object)"
      ]
     },
     "execution_count": 142,
     "metadata": {},
     "output_type": "execute_result"
    }
   ],
   "source": [
    "# Job Title --> check unique values and try to make classification\n",
    "unique_values = df['Job Title'].unique()\n",
    "unique_values"
   ]
  },
  {
   "cell_type": "code",
   "execution_count": 143,
   "id": "4c843be1-6152-4d22-92d0-8c72827395ac",
   "metadata": {},
   "outputs": [
    {
     "name": "stdout",
     "output_type": "stream",
     "text": [
      "                         Job Title  Job Title Cluster\n",
      "0                Software Engineer                 27\n",
      "1                     Data Analyst                 24\n",
      "2                   Senior Manager                  4\n",
      "3                  Sales Associate                 49\n",
      "4                         Director                  9\n",
      "..                             ...                ...\n",
      "370       Senior Marketing Analyst                 13\n",
      "371         Director of Operations                 42\n",
      "372         Junior Project Manager                  5\n",
      "373  Senior Operations Coordinator                 12\n",
      "374        Senior Business Analyst                 18\n",
      "\n",
      "[373 rows x 2 columns]\n"
     ]
    },
    {
     "name": "stderr",
     "output_type": "stream",
     "text": [
      "/Users/emiliiazemskova/anaconda3/lib/python3.10/site-packages/sklearn/cluster/_agglomerative.py:983: FutureWarning:\n",
      "\n",
      "Attribute `affinity` was deprecated in version 1.2 and will be removed in 1.4. Use `metric` instead\n",
      "\n"
     ]
    }
   ],
   "source": [
    "# I decided to make clustering with all job titles\n",
    "# in order to avoid to have a lot of columns\n",
    "# and at the same time to have numeric data\n",
    "\n",
    "# import modules\n",
    "from sklearn.feature_extraction.text import TfidfVectorizer\n",
    "from sklearn.cluster import AgglomerativeClustering\n",
    "from sklearn.metrics.pairwise import cosine_similarity\n",
    "\n",
    "# apply TF-IDF vectorization to job titles to convert them into numerical vectors.\n",
    "# assign cluster labels to job titles based on the clustering results.\n",
    "tfidf_vectorizer = TfidfVectorizer()\n",
    "tfidf_matrix = tfidf_vectorizer.fit_transform(df['Job Title'])\n",
    "\n",
    "# calculate cosine similarity between job titles to measure their similarity.\n",
    "cosine_sim = cosine_similarity(tfidf_matrix)\n",
    "\n",
    "# perform hierarchical clustering using AgglomerativeClustering.\n",
    "cluster = AgglomerativeClustering(n_clusters=None, affinity='cosine', linkage='average', distance_threshold=0.2)\n",
    "cluster.fit(cosine_sim)\n",
    "\n",
    "# assign cluster labels to job titles\n",
    "df['Job Title Cluster'] = cluster.labels_\n",
    "\n",
    "# print the result\n",
    "print(df[['Job Title', 'Job Title Cluster']])"
   ]
  },
  {
   "cell_type": "code",
   "execution_count": 144,
   "id": "1326b92f-b074-4425-9143-774e4a6caeab",
   "metadata": {},
   "outputs": [
    {
     "name": "stdout",
     "output_type": "stream",
     "text": [
      "Total number of clusters: 91\n"
     ]
    }
   ],
   "source": [
    "# Count the total number of clusters\n",
    "total_clusters = cluster.n_clusters_\n",
    "\n",
    "print(\"Total number of clusters:\", total_clusters)"
   ]
  },
  {
   "cell_type": "code",
   "execution_count": 145,
   "id": "f5879d8c-0a13-4d8e-a5ca-da2d9df83849",
   "metadata": {},
   "outputs": [],
   "source": [
    "# drop the Job Title column\n",
    "columns_to_drop = [\"Job Title\"]\n",
    "df = df.drop(columns=columns_to_drop)"
   ]
  },
  {
   "cell_type": "code",
   "execution_count": 146,
   "id": "5fcf7f64-3308-4b18-b1c0-18a4e4f82bd0",
   "metadata": {},
   "outputs": [
    {
     "data": {
      "text/html": [
       "<div>\n",
       "<style scoped>\n",
       "    .dataframe tbody tr th:only-of-type {\n",
       "        vertical-align: middle;\n",
       "    }\n",
       "\n",
       "    .dataframe tbody tr th {\n",
       "        vertical-align: top;\n",
       "    }\n",
       "\n",
       "    .dataframe thead th {\n",
       "        text-align: right;\n",
       "    }\n",
       "</style>\n",
       "<table border=\"1\" class=\"dataframe\">\n",
       "  <thead>\n",
       "    <tr style=\"text-align: right;\">\n",
       "      <th></th>\n",
       "      <th>Age</th>\n",
       "      <th>Gender</th>\n",
       "      <th>Years of Experience</th>\n",
       "      <th>Salary</th>\n",
       "      <th>Bachelors</th>\n",
       "      <th>Masters</th>\n",
       "      <th>Job Title Cluster</th>\n",
       "    </tr>\n",
       "  </thead>\n",
       "  <tbody>\n",
       "    <tr>\n",
       "      <th>0</th>\n",
       "      <td>32.0</td>\n",
       "      <td>1</td>\n",
       "      <td>5.0</td>\n",
       "      <td>90000.0</td>\n",
       "      <td>1</td>\n",
       "      <td>0</td>\n",
       "      <td>27</td>\n",
       "    </tr>\n",
       "    <tr>\n",
       "      <th>1</th>\n",
       "      <td>28.0</td>\n",
       "      <td>0</td>\n",
       "      <td>3.0</td>\n",
       "      <td>65000.0</td>\n",
       "      <td>0</td>\n",
       "      <td>1</td>\n",
       "      <td>24</td>\n",
       "    </tr>\n",
       "    <tr>\n",
       "      <th>2</th>\n",
       "      <td>45.0</td>\n",
       "      <td>1</td>\n",
       "      <td>15.0</td>\n",
       "      <td>150000.0</td>\n",
       "      <td>0</td>\n",
       "      <td>0</td>\n",
       "      <td>4</td>\n",
       "    </tr>\n",
       "    <tr>\n",
       "      <th>3</th>\n",
       "      <td>36.0</td>\n",
       "      <td>0</td>\n",
       "      <td>7.0</td>\n",
       "      <td>60000.0</td>\n",
       "      <td>1</td>\n",
       "      <td>0</td>\n",
       "      <td>49</td>\n",
       "    </tr>\n",
       "    <tr>\n",
       "      <th>4</th>\n",
       "      <td>52.0</td>\n",
       "      <td>1</td>\n",
       "      <td>20.0</td>\n",
       "      <td>200000.0</td>\n",
       "      <td>0</td>\n",
       "      <td>1</td>\n",
       "      <td>9</td>\n",
       "    </tr>\n",
       "  </tbody>\n",
       "</table>\n",
       "</div>"
      ],
      "text/plain": [
       "    Age  Gender  Years of Experience    Salary  Bachelors  Masters  \\\n",
       "0  32.0       1                  5.0   90000.0          1        0   \n",
       "1  28.0       0                  3.0   65000.0          0        1   \n",
       "2  45.0       1                 15.0  150000.0          0        0   \n",
       "3  36.0       0                  7.0   60000.0          1        0   \n",
       "4  52.0       1                 20.0  200000.0          0        1   \n",
       "\n",
       "   Job Title Cluster  \n",
       "0                 27  \n",
       "1                 24  \n",
       "2                  4  \n",
       "3                 49  \n",
       "4                  9  "
      ]
     },
     "execution_count": 146,
     "metadata": {},
     "output_type": "execute_result"
    }
   ],
   "source": [
    "# check data\n",
    "df.head()"
   ]
  },
  {
   "cell_type": "markdown",
   "id": "4c43df24-e0d9-43aa-b0c9-c9f662f93ea7",
   "metadata": {},
   "source": [
    "# PART 2: Balance of data"
   ]
  },
  {
   "cell_type": "code",
   "execution_count": 147,
   "id": "d3a56aca-d4f9-4277-911f-e75de06bcc19",
   "metadata": {},
   "outputs": [
    {
     "data": {
      "text/plain": [
       "<seaborn.axisgrid.FacetGrid at 0x15831f160>"
      ]
     },
     "execution_count": 147,
     "metadata": {},
     "output_type": "execute_result"
    },
    {
     "data": {
      "image/png": "[encoded data removed]",
      "text/plain": [
       "<Figure size 500x500 with 1 Axes>"
      ]
     },
     "metadata": {},
     "output_type": "display_data"
    }
   ],
   "source": [
    "sns.displot(df, x=\"Age\")\n",
    "\n",
    "# not well balanced but we cannot delete more data \n",
    "# because we do not have much"
   ]
  },
  {
   "cell_type": "code",
   "execution_count": 148,
   "id": "6a717e3b-c2aa-4c39-ab60-b2f677c7b625",
   "metadata": {},
   "outputs": [
    {
     "data": {
      "text/plain": [
       "1    194\n",
       "0    179\n",
       "Name: Gender, dtype: int64"
      ]
     },
     "execution_count": 148,
     "metadata": {},
     "output_type": "execute_result"
    }
   ],
   "source": [
    "class_counts = df['Gender'].value_counts()\n",
    "class_counts\n",
    "\n",
    "# well balanced"
   ]
  },
  {
   "cell_type": "code",
   "execution_count": 149,
   "id": "906fdcfe-4614-404b-af3a-9c2ffa8bf38d",
   "metadata": {},
   "outputs": [
    {
     "data": {
      "text/plain": [
       "<seaborn.axisgrid.FacetGrid at 0x158484280>"
      ]
     },
     "execution_count": 149,
     "metadata": {},
     "output_type": "execute_result"
    },
    {
     "data": {
      "image/png": "[encoded data removed]",
      "text/plain": [
       "<Figure size 500x500 with 1 Axes>"
      ]
     },
     "metadata": {},
     "output_type": "display_data"
    }
   ],
   "source": [
    "sns.displot(df, x=\"Salary\")\n",
    "\n",
    "# there is some outliers that \n",
    "# we will remove lates"
   ]
  },
  {
   "cell_type": "code",
   "execution_count": 150,
   "id": "56ea285f-b2ee-4315-aad5-21df196475c8",
   "metadata": {},
   "outputs": [],
   "source": [
    "# remove ouliers\n",
    "from scipy import stats\n",
    "df = df[(np.abs(stats.zscore(df)) < 3).all(axis=1)]"
   ]
  },
  {
   "cell_type": "markdown",
   "id": "836fcb60-baf1-455a-9d83-ad1418c03eff",
   "metadata": {},
   "source": [
    "# PART 3: The train/test –split"
   ]
  },
  {
   "cell_type": "code",
   "execution_count": 151,
   "id": "00a489fb-4a1d-40b0-954b-8450fdad57e3",
   "metadata": {},
   "outputs": [
    {
     "data": {
      "text/plain": [
       "Index(['Age', 'Gender', 'Years of Experience', 'Salary', 'Bachelors',\n",
       "       'Masters', 'Job Title Cluster'],\n",
       "      dtype='object')"
      ]
     },
     "execution_count": 151,
     "metadata": {},
     "output_type": "execute_result"
    }
   ],
   "source": [
    "df.columns"
   ]
  },
  {
   "cell_type": "code",
   "execution_count": 152,
   "id": "73c7344b-9a70-4f09-acbc-a17c23db9cf2",
   "metadata": {},
   "outputs": [],
   "source": [
    "# if you  have more than one independent variables, list them all here\n",
    "# leave out the target variable! (dependent variable)\n",
    "X = df[['Age', 'Gender', 'Years of Experience','Bachelors',\n",
    "       'Masters', 'Job Title Cluster']]\n",
    "\n",
    "\n",
    "# here we have only the target variable (dependent variable)\n",
    "y = df['Salary']"
   ]
  },
  {
   "cell_type": "code",
   "execution_count": 153,
   "id": "90c206b1-9cb3-4304-a713-c1069073cb0a",
   "metadata": {},
   "outputs": [],
   "source": [
    "# create train and test sets of your dataset\n",
    "# random_state is optional, you can lock this down in order to \n",
    "# to get same results always\n",
    "# this examples reserves 30% for test data, 70% for training data\n",
    "X_train, X_test, y_train, y_test = train_test_split(X, y, test_size=0.3, random_state=101)"
   ]
  },
  {
   "cell_type": "code",
   "execution_count": 154,
   "id": "80e01332-d7ba-4e3a-b5c5-690301599659",
   "metadata": {},
   "outputs": [
    {
     "name": "stdout",
     "output_type": "stream",
     "text": [
      "Fitting 5 folds for each of 16 candidates, totalling 80 fits\n",
      "[CV 1/5] END .......C=0.1, gamma=1, kernel=rbf;, score=-0.001 total time=   0.0s\n",
      "[CV 2/5] END .......C=0.1, gamma=1, kernel=rbf;, score=-0.002 total time=   0.0s\n",
      "[CV 3/5] END .......C=0.1, gamma=1, kernel=rbf;, score=-0.007 total time=   0.0s\n",
      "[CV 4/5] END .......C=0.1, gamma=1, kernel=rbf;, score=-0.079 total time=   0.0s\n",
      "[CV 5/5] END .......C=0.1, gamma=1, kernel=rbf;, score=-0.044 total time=   0.0s\n",
      "[CV 1/5] END .....C=0.1, gamma=0.1, kernel=rbf;, score=-0.001 total time=   0.0s\n",
      "[CV 2/5] END .....C=0.1, gamma=0.1, kernel=rbf;, score=-0.002 total time=   0.0s\n",
      "[CV 3/5] END .....C=0.1, gamma=0.1, kernel=rbf;, score=-0.007 total time=   0.0s\n",
      "[CV 4/5] END .....C=0.1, gamma=0.1, kernel=rbf;, score=-0.079 total time=   0.0s\n",
      "[CV 5/5] END .....C=0.1, gamma=0.1, kernel=rbf;, score=-0.044 total time=   0.0s\n",
      "[CV 1/5] END ...C=0.1, gamma=0.005, kernel=rbf;, score=-0.001 total time=   0.0s\n",
      "[CV 2/5] END ...C=0.1, gamma=0.005, kernel=rbf;, score=-0.002 total time=   0.0s\n",
      "[CV 3/5] END ...C=0.1, gamma=0.005, kernel=rbf;, score=-0.007 total time=   0.0s\n",
      "[CV 4/5] END ...C=0.1, gamma=0.005, kernel=rbf;, score=-0.079 total time=   0.0s\n",
      "[CV 5/5] END ...C=0.1, gamma=0.005, kernel=rbf;, score=-0.044 total time=   0.0s\n",
      "[CV 1/5] END ..C=0.1, gamma=0.0001, kernel=rbf;, score=-0.001 total time=   0.0s\n",
      "[CV 2/5] END ..C=0.1, gamma=0.0001, kernel=rbf;, score=-0.002 total time=   0.0s\n",
      "[CV 3/5] END ..C=0.1, gamma=0.0001, kernel=rbf;, score=-0.007 total time=   0.0s\n",
      "[CV 4/5] END ..C=0.1, gamma=0.0001, kernel=rbf;, score=-0.079 total time=   0.0s\n",
      "[CV 5/5] END ..C=0.1, gamma=0.0001, kernel=rbf;, score=-0.044 total time=   0.0s\n",
      "[CV 1/5] END .........C=15, gamma=1, kernel=rbf;, score=0.004 total time=   0.0s\n",
      "[CV 2/5] END .........C=15, gamma=1, kernel=rbf;, score=0.002 total time=   0.0s\n",
      "[CV 3/5] END ........C=15, gamma=1, kernel=rbf;, score=-0.003 total time=   0.0s\n",
      "[CV 4/5] END ........C=15, gamma=1, kernel=rbf;, score=-0.072 total time=   0.0s\n",
      "[CV 5/5] END ........C=15, gamma=1, kernel=rbf;, score=-0.041 total time=   0.0s\n",
      "[CV 1/5] END .......C=15, gamma=0.1, kernel=rbf;, score=0.014 total time=   0.0s\n",
      "[CV 2/5] END .......C=15, gamma=0.1, kernel=rbf;, score=0.012 total time=   0.0s\n",
      "[CV 3/5] END .......C=15, gamma=0.1, kernel=rbf;, score=0.007 total time=   0.0s\n",
      "[CV 4/5] END ......C=15, gamma=0.1, kernel=rbf;, score=-0.060 total time=   0.0s\n",
      "[CV 5/5] END ......C=15, gamma=0.1, kernel=rbf;, score=-0.033 total time=   0.0s\n",
      "[CV 1/5] END .....C=15, gamma=0.005, kernel=rbf;, score=0.001 total time=   0.0s\n",
      "[CV 2/5] END .....C=15, gamma=0.005, kernel=rbf;, score=0.000 total time=   0.0s\n",
      "[CV 3/5] END ....C=15, gamma=0.005, kernel=rbf;, score=-0.004 total time=   0.0s\n",
      "[CV 4/5] END ....C=15, gamma=0.005, kernel=rbf;, score=-0.076 total time=   0.0s\n",
      "[CV 5/5] END ....C=15, gamma=0.005, kernel=rbf;, score=-0.043 total time=   0.0s\n",
      "[CV 1/5] END ...C=15, gamma=0.0001, kernel=rbf;, score=-0.001 total time=   0.0s\n",
      "[CV 2/5] END ...C=15, gamma=0.0001, kernel=rbf;, score=-0.002 total time=   0.0s\n",
      "[CV 3/5] END ...C=15, gamma=0.0001, kernel=rbf;, score=-0.007 total time=   0.0s\n",
      "[CV 4/5] END ...C=15, gamma=0.0001, kernel=rbf;, score=-0.079 total time=   0.0s\n",
      "[CV 5/5] END ...C=15, gamma=0.0001, kernel=rbf;, score=-0.044 total time=   0.0s\n",
      "[CV 1/5] END .........C=50, gamma=1, kernel=rbf;, score=0.015 total time=   0.0s\n",
      "[CV 2/5] END .........C=50, gamma=1, kernel=rbf;, score=0.010 total time=   0.0s\n",
      "[CV 3/5] END .........C=50, gamma=1, kernel=rbf;, score=0.005 total time=   0.0s\n",
      "[CV 4/5] END ........C=50, gamma=1, kernel=rbf;, score=-0.057 total time=   0.0s\n",
      "[CV 5/5] END ........C=50, gamma=1, kernel=rbf;, score=-0.032 total time=   0.0s\n",
      "[CV 1/5] END .......C=50, gamma=0.1, kernel=rbf;, score=0.049 total time=   0.0s\n",
      "[CV 2/5] END .......C=50, gamma=0.1, kernel=rbf;, score=0.045 total time=   0.0s\n",
      "[CV 3/5] END .......C=50, gamma=0.1, kernel=rbf;, score=0.038 total time=   0.0s\n",
      "[CV 4/5] END ......C=50, gamma=0.1, kernel=rbf;, score=-0.016 total time=   0.0s\n",
      "[CV 5/5] END ......C=50, gamma=0.1, kernel=rbf;, score=-0.005 total time=   0.0s\n",
      "[CV 1/5] END .....C=50, gamma=0.005, kernel=rbf;, score=0.007 total time=   0.0s\n",
      "[CV 2/5] END .....C=50, gamma=0.005, kernel=rbf;, score=0.006 total time=   0.0s\n",
      "[CV 3/5] END .....C=50, gamma=0.005, kernel=rbf;, score=0.001 total time=   0.0s\n",
      "[CV 4/5] END ....C=50, gamma=0.005, kernel=rbf;, score=-0.069 total time=   0.0s\n",
      "[CV 5/5] END ....C=50, gamma=0.005, kernel=rbf;, score=-0.038 total time=   0.0s\n",
      "[CV 1/5] END ...C=50, gamma=0.0001, kernel=rbf;, score=-0.001 total time=   0.0s\n",
      "[CV 2/5] END ...C=50, gamma=0.0001, kernel=rbf;, score=-0.002 total time=   0.0s\n",
      "[CV 3/5] END ...C=50, gamma=0.0001, kernel=rbf;, score=-0.007 total time=   0.0s\n",
      "[CV 4/5] END ...C=50, gamma=0.0001, kernel=rbf;, score=-0.079 total time=   0.0s\n",
      "[CV 5/5] END ...C=50, gamma=0.0001, kernel=rbf;, score=-0.044 total time=   0.0s\n",
      "[CV 1/5] END ........C=150, gamma=1, kernel=rbf;, score=0.045 total time=   0.0s\n",
      "[CV 2/5] END ........C=150, gamma=1, kernel=rbf;, score=0.033 total time=   0.0s\n",
      "[CV 3/5] END ........C=150, gamma=1, kernel=rbf;, score=0.027 total time=   0.0s\n",
      "[CV 4/5] END .......C=150, gamma=1, kernel=rbf;, score=-0.015 total time=   0.0s\n",
      "[CV 5/5] END .......C=150, gamma=1, kernel=rbf;, score=-0.008 total time=   0.0s\n",
      "[CV 1/5] END ......C=150, gamma=0.1, kernel=rbf;, score=0.144 total time=   0.0s\n",
      "[CV 2/5] END ......C=150, gamma=0.1, kernel=rbf;, score=0.134 total time=   0.0s\n",
      "[CV 3/5] END ......C=150, gamma=0.1, kernel=rbf;, score=0.122 total time=   0.0s\n",
      "[CV 4/5] END ......C=150, gamma=0.1, kernel=rbf;, score=0.095 total time=   0.0s\n",
      "[CV 5/5] END ......C=150, gamma=0.1, kernel=rbf;, score=0.069 total time=   0.0s\n",
      "[CV 1/5] END ....C=150, gamma=0.005, kernel=rbf;, score=0.023 total time=   0.0s\n",
      "[CV 2/5] END ....C=150, gamma=0.005, kernel=rbf;, score=0.021 total time=   0.0s\n",
      "[CV 3/5] END ....C=150, gamma=0.005, kernel=rbf;, score=0.017 total time=   0.0s\n",
      "[CV 4/5] END ...C=150, gamma=0.005, kernel=rbf;, score=-0.050 total time=   0.0s\n",
      "[CV 5/5] END ...C=150, gamma=0.005, kernel=rbf;, score=-0.025 total time=   0.0s\n",
      "[CV 1/5] END ..C=150, gamma=0.0001, kernel=rbf;, score=-0.001 total time=   0.0s\n",
      "[CV 2/5] END ..C=150, gamma=0.0001, kernel=rbf;, score=-0.001 total time=   0.0s\n",
      "[CV 3/5] END ..C=150, gamma=0.0001, kernel=rbf;, score=-0.006 total time=   0.0s\n",
      "[CV 4/5] END ..C=150, gamma=0.0001, kernel=rbf;, score=-0.078 total time=   0.0s\n",
      "[CV 5/5] END ..C=150, gamma=0.0001, kernel=rbf;, score=-0.044 total time=   0.0s\n"
     ]
    }
   ],
   "source": [
    "from sklearn.pipeline import make_pipeline\n",
    "from sklearn.preprocessing import StandardScaler\n",
    "from sklearn.calibration import CalibratedClassifierCV\n",
    "from sklearn.model_selection import GridSearchCV\n",
    "from sklearn import svm\n",
    "# Linear Regression\n",
    "# lm = LinearRegression()\n",
    "#lm.fit(X_train, y_train)\n",
    "# MAE 11193.55\n",
    "# MSE 226453280.28 ^2\n",
    "# RMSE: 15048.36\n",
    "# R-squared: 0.9\n",
    "\n",
    "\n",
    "# MAE - 0 ideal\n",
    "# MSE - 0 ideal\n",
    "# RMSE - 0 ideal\n",
    "# R-squared - 1 ideal\n",
    "\n",
    "\n",
    "\n",
    "# new experiments: \n",
    "# 1\n",
    "model = make_pipeline(StandardScaler(), CalibratedClassifierCV(svm.LinearSVC()))\n",
    "model.fit(X_train, y_train)\n",
    "predictions = model.predict(X_test)\n",
    "#MAE 17854.02\n",
    "#MSE 676983236.61 ^2\n",
    "#RMSE: 26018.9\n",
    "#R-squared: 0.69\n",
    "# the original is better\n",
    "\n",
    "\n",
    "\n",
    "# 2\n",
    "#model = make_pipeline(StandardScaler(), svm.LinearSVR())\n",
    "#model.fit(X_train, y_train)\n",
    "#predictions = model.predict(X_test)\n",
    "#MAE 99565.55\n",
    "#MSE 12087644770.29 ^2\n",
    "#RMSE: 109943.83\n",
    "# R-squared: -4.56\n",
    "# very bad results\n",
    "\n",
    "\n",
    "\n",
    "\n",
    "# 3\n",
    "#model = make_pipeline(StandardScaler(), svm.NuSVR())\n",
    "#model.fit(X_train, y_train)\n",
    "#predictions = model.predict(X_test)\n",
    "#MAE 40381.09\n",
    "#MSE 2177957511.97 ^2\n",
    "#RMSE: 46668.59\n",
    "#R-squared: -0.0\n",
    "# better than previous but 1 is better than this\n",
    "\n",
    "\n",
    "\n",
    "# 4\n",
    "#model = make_pipeline(StandardScaler(), svm.SVR())\n",
    "#model.fit(X_train, y_train)\n",
    "#predictions = model.predict(X_test)\n",
    "#MAE 40511.31\n",
    "#MSE 2195412391.35 ^2\n",
    "#RMSE: 46855.23\n",
    "#R-squared: -0.01\n",
    "# 1 is better\n",
    "\n",
    "\n",
    "\n",
    "# 5\n",
    "#param_grid = {\n",
    "#    'C': [0.1, 1, 10, 100, 250],\n",
    "#    'gamma': [1,0.1,0.05,0.001,0.0001], \n",
    "#    'kernel': ['rbf']\n",
    "#}\n",
    "\n",
    "# make a pipeline, and wrap your SVM model into the GridSearchCV\n",
    "#model = make_pipeline(StandardScaler(), GridSearchCV(svm.SVR(), param_grid, refit=True, verbose=3))\n",
    "#model.fit(X_train, y_train)\n",
    "#predictions = model.predict(X_test)\n",
    "#MAE 34704.65\n",
    "#MSE 1633575284.0 ^2\n",
    "#RMSE: 40417.51\n",
    "#R-squared: 0.25\n",
    "# 1 is better\n",
    "\n",
    "\n",
    "\n",
    "# 6\n",
    "#param_grid = {\n",
    "#    'C': [0.1, 15, 50, 150],\n",
    "#    'gamma': [1,0.1,0.005, 0.0001], \n",
    "#    'kernel': ['rbf']\n",
    "#}\n",
    "\n",
    "# make a pipeline, and wrap your SVM model into the GridSearchCV\n",
    "#model = make_pipeline(StandardScaler(), GridSearchCV(svm.SVR(), param_grid, refit=True, verbose=3))\n",
    "#model.fit(X_train, y_train)\n",
    "#predictions = model.predict(X_test)\n",
    "#MAE 36991.79\n",
    "#MSE 1844822938.73 ^2\n",
    "#RMSE: 42951.4\n",
    "#R-squared: 0.15\n",
    "# 1 is better\n",
    "\n",
    "\n",
    "\n",
    "\n",
    "# analysis\n",
    "# Linear regression works better becuase\n",
    "# 1. Data is not complex and Linear regression\n",
    "# is a simple refression that\n",
    "# usually perfoms good with simple data\n",
    "# 2. maybe data has a strong linearity\n",
    "# that makes Linear regression perfoms better"
   ]
  },
  {
   "cell_type": "markdown",
   "id": "79cefe0d-85a0-4d9f-9b1c-6194e63c9e80",
   "metadata": {},
   "source": [
    "# PART 5: Error and performance metrics"
   ]
  },
  {
   "cell_type": "code",
   "execution_count": 155,
   "id": "caad03ac-41fa-4ada-a3f2-414ec464a0a0",
   "metadata": {},
   "outputs": [
    {
     "data": {
      "image/png": "[encoded data removed]",
      "text/plain": [
       "<Figure size 640x480 with 1 Axes>"
      ]
     },
     "metadata": {},
     "output_type": "display_data"
    }
   ],
   "source": [
    "# these values follow a line = good predictions\n",
    "# we basically compare the predicted values \n",
    "# to true test values and see the differences\n",
    "plt.scatter(y_test, predictions)\n",
    "plt.show()\n",
    "\n",
    "# a very good linear regression :)\n",
    "# but there are still some outliers"
   ]
  },
  {
   "cell_type": "markdown",
   "id": "9a038307-339e-40c3-b781-d092be7dda1c",
   "metadata": {},
   "source": [
    "# PART 6: Create a tester row for metrics"
   ]
  },
  {
   "cell_type": "code",
   "execution_count": 156,
   "id": "0571a855-634c-4a75-a15d-3e986e1c3036",
   "metadata": {},
   "outputs": [],
   "source": [
    "# let's try with some new imaginary data\n",
    "tester_row = {\n",
    "    'Age': 25, \n",
    "    'Gender': 1, \n",
    "    'Years of Experience': 3, \n",
    "    'Bachelors': 1,\n",
    "    'Masters': 1, \n",
    "    'Job Title Cluster': 24\n",
    "}\n",
    "\n",
    "# convert to pandas-format\n",
    "tester_row = pd.DataFrame([tester_row])"
   ]
  },
  {
   "cell_type": "code",
   "execution_count": 157,
   "id": "0234a1c0-a600-4f4c-9353-acbb75b8c29e",
   "metadata": {},
   "outputs": [
    {
     "name": "stdout",
     "output_type": "stream",
     "text": [
      "\n",
      "Predicted year salary: 91444.55\n",
      "Predicted monthly salary: 7620.38\n"
     ]
    }
   ],
   "source": [
    "# use our model to predict our tester_row data\n",
    "year_salary = model.predict(tester_row)[0]\n",
    "month_salary = year_salary / 12\n",
    "\n",
    "print()\n",
    "print(f\"Predicted year salary: {round(float(year_salary), 2)}\")\n",
    "print(f\"Predicted monthly salary: {round(float(month_salary), 2)}\")"
   ]
  },
  {
   "cell_type": "code",
   "execution_count": 158,
   "id": "75692711-3c47-4ebe-b9e5-a7dc96b5a7bb",
   "metadata": {},
   "outputs": [
    {
     "name": "stdout",
     "output_type": "stream",
     "text": [
      "MAE\n",
      "36991.79\n",
      "\n",
      "MSE\n",
      "1844822938.73 ^2\n",
      "\n",
      "RMSE:\n",
      "42951.4\n",
      "\n",
      "R-squared:\n",
      "0.15\n"
     ]
    }
   ],
   "source": [
    "# Lower values indicate better performance - MAE, MSE, RMSE\n",
    "# R-squared: 1 is perfect, 0 is worst outcome\n",
    "\n",
    "# MAE - Mean average error\n",
    "# The average of all errors\n",
    "# Simple, but doesn't take large errors into account that much\n",
    "print(\"MAE\")\n",
    "print(round(metrics.mean_absolute_error(y_test, predictions), 2))\n",
    "\n",
    "# MSE - Mean square error\n",
    "# Errors are computed in the power of 2 (squared) => larger mistakes are emphasized\n",
    "print(\"\\nMSE\")\n",
    "print(round(metrics.mean_squared_error(y_test, predictions), 2), \"^2\")\n",
    "\n",
    "# RMSE - Root mean square error\n",
    "# the most common error metric used in regression\n",
    "# 0 = perfect RMSE-score, 1 = worst possible RMSE-score\n",
    "print('\\nRMSE:')\n",
    "print(round(np.sqrt(metrics.mean_squared_error(y_test, predictions)), 2))\n",
    "\n",
    "# R-squared. 0 = the model describes the dataset poorly\n",
    "# 1 = model describes the dataset perfectly\n",
    "print('\\nR-squared:')\n",
    "print(round(metrics.r2_score(y_test, predictions), 2))\n",
    "\n",
    "# MAE: quite big if we take into account that\n",
    "# the max salary is 220 000\n",
    "\n",
    "# R-squared: a very good result"
   ]
  },
  {
   "cell_type": "code",
   "execution_count": 159,
   "id": "f0ed788f-d1ea-44bd-a668-5bad47579ae5",
   "metadata": {},
   "outputs": [
    {
     "name": "stderr",
     "output_type": "stream",
     "text": [
      "/var/folders/lj/tcwl5glj0blfftjn4df0129r0000gn/T/ipykernel_60231/1228468235.py:5: UserWarning:\n",
      "\n",
      "\n",
      "\n",
      "`distplot` is a deprecated function and will be removed in seaborn v0.14.0.\n",
      "\n",
      "Please adapt your code to use either `displot` (a figure-level function with\n",
      "similar flexibility) or `histplot` (an axes-level function for histograms).\n",
      "\n",
      "For a guide to updating your code to use the new functions, please see\n",
      "https://gist.github.com/mwaskom/de44147ed2974457ad6372750bbe5751\n",
      "\n",
      "\n"
     ]
    },
    {
     "data": {
      "image/png": "[encoded data removed]",
      "text/plain": [
       "<Figure size 640x480 with 1 Axes>"
      ]
     },
     "metadata": {},
     "output_type": "display_data"
    }
   ],
   "source": [
    "# if the prediction distribution are far from normal distribution\n",
    "# then the model is not probably good enough\n",
    "# distplot is deprecating in future pandas-version\n",
    "# unfortunately, there's no exact alternative to do this plot at the moment\n",
    "sns.distplot((y_test - predictions))\n",
    "plt.show()\n",
    "plt.close()\n",
    "\n",
    "# we have a good distribution"
   ]
  },
  {
   "cell_type": "markdown",
   "id": "c362d559-6768-4de5-b1d7-10e4f24a4132",
   "metadata": {},
   "source": [
    "# Selecting optimal features"
   ]
  },
  {
   "cell_type": "code",
   "execution_count": 160,
   "id": "7bd8a9d9-d952-4a0a-8e2d-2960d6ff1d4f",
   "metadata": {},
   "outputs": [
    {
     "data": {
      "text/html": [
       "\n",
       "        <iframe\n",
       "            width=\"100%\"\n",
       "            height=\"475\"\n",
       "            src=\"http://Emiliias-MacBook-Air.local:40001/dtale/iframe/4\"\n",
       "            frameborder=\"0\"\n",
       "            allowfullscreen\n",
       "            \n",
       "        ></iframe>\n",
       "        "
      ],
      "text/plain": [
       "<IPython.lib.display.IFrame at 0x1584861d0>"
      ]
     },
     "metadata": {},
     "output_type": "display_data"
    },
    {
     "data": {
      "text/plain": []
     },
     "execution_count": 160,
     "metadata": {},
     "output_type": "execute_result"
    }
   ],
   "source": [
    "import dtale\n",
    "dtale.show(df)\n",
    "\n",
    "# Insights:\n",
    "# -0.67 Salary & Bachelors\n",
    "# but Maters affects more: 0.38\n",
    "\n",
    "# 0.05: Salary & Job title\n",
    "# means that the job in IT is less important\n",
    "# than Years of Experience\n",
    "# 0.93: Salary & Years of Experience"
   ]
  },
  {
   "cell_type": "code",
   "execution_count": 161,
   "id": "ad5cf69a-42b5-4a61-9592-a3041a9e8b6a",
   "metadata": {},
   "outputs": [
    {
     "data": {
      "image/png": "[encoded data removed]",
      "text/plain": [
       "<Figure size 1000x800 with 1 Axes>"
      ]
     },
     "metadata": {},
     "output_type": "display_data"
    }
   ],
   "source": [
    "# check the significance of columns\n",
    "\n",
    "# import the needed module\n",
    "from sklearn.feature_selection import f_classif\n",
    "\n",
    "# get the score rankings\n",
    "f_values, _ = f_classif(X, y)\n",
    "\n",
    "# create a pandas Series for easier interpretation\n",
    "feat_importances = pd.Series(f_values, index=X.columns)\n",
    "\n",
    "# plot the ANOVA F-value scores\n",
    "plt.figure(figsize=(10, 8))  # the figure size\n",
    "feat_importances.plot(kind='barh')\n",
    "plt.tight_layout()  # spacing to prevent overlapping\n",
    "plt.show()\n",
    "\n",
    "# experience is the most important\n",
    "# experience is a dependant variable (more age -> experience)\n",
    "\n",
    "# Masters is more important than Bachelors"
   ]
  },
  {
   "cell_type": "markdown",
   "id": "2feb1c51-91e7-4dfa-b905-944764aece41",
   "metadata": {},
   "source": [
    "# PART 7: ANALYSIS"
   ]
  },
  {
   "cell_type": "markdown",
   "id": "48847c43-7f1d-44c6-ab6b-577fc9a97c42",
   "metadata": {},
   "source": [
    "This linear regression can be used by specialists for estimation their salaries in order to know what to expect.\n",
    "\n",
    "Easy was to handle data and make it numeric except Job Titles. It took many hours to find a solution to make it numeric.\n",
    "\n",
    "Talking about optimization, dataset coud be bigger in order to have better Linear Regression. Also, additional columns can be added such as place and year becuase it affects a lot on the result (salary)."
   ]
  },
  {
   "cell_type": "code",
   "execution_count": 162,
   "id": "3cff6e37-6e2f-4864-947f-fc23f4050bf5",
   "metadata": {},
   "outputs": [
    {
     "name": "stdout",
     "output_type": "stream",
     "text": [
      "3.10.9 (main, Mar  1 2023, 12:20:14) [Clang 14.0.6 ]\n"
     ]
    }
   ],
   "source": [
    "import sys\n",
    "print(sys.version)"
   ]
  },
  {
   "cell_type": "code",
   "execution_count": null,
   "id": "bd6a82d9-9b5e-44b5-a04f-afb86073b7f2",
   "metadata": {},
   "outputs": [],
   "source": []
  }
 ],
 "metadata": {
  "kernelspec": {
   "display_name": "Python 3 (ipykernel)",
   "language": "python",
   "name": "python3"
  },
  "language_info": {
   "codemirror_mode": {
    "name": "ipython",
    "version": 3
   },
   "file_extension": ".py",
   "mimetype": "text/x-python",
   "name": "python",
   "nbconvert_exporter": "python",
   "pygments_lexer": "ipython3",
   "version": "3.10.9"
  }
 },
 "nbformat": 4,
 "nbformat_minor": 5
}
