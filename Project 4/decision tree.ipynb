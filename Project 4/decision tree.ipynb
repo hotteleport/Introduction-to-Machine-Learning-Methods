{
 "cells": [
  {
   "cell_type": "markdown",
   "id": "2a95b166-9e11-4698-b8bb-5f8ca9446c49",
   "metadata": {},
   "source": [
    "Dataset is https://www.kaggle.com/datasets/gabrielsantello/cars-purchase-decision-dataset"
   ]
  },
  {
   "cell_type": "markdown",
   "id": "78bd255f-63a3-4f78-a285-54fe32c0ee28",
   "metadata": {
    "tags": []
   },
   "source": [
    "# Proceding data"
   ]
  },
  {
   "cell_type": "code",
   "execution_count": 13,
   "id": "f159d4aa-c1c5-4fdf-8b48-e253db4c0bac",
   "metadata": {},
   "outputs": [],
   "source": [
    "# import libraries\n",
    "import seaborn as sns\n",
    "from matplotlib import pyplot as plt\n",
    "from sklearn import datasets\n",
    "from sklearn.tree import DecisionTreeClassifier \n",
    "from sklearn import tree\n",
    "import pandas as pd\n",
    "import dtreeviz"
   ]
  },
  {
   "cell_type": "code",
   "execution_count": 14,
   "id": "a08c5c1a-619c-4b59-9ca8-1ec8d523dae9",
   "metadata": {},
   "outputs": [],
   "source": [
    "# load the dataset\n",
    "df = pd.read_csv(\"car_data.csv\")"
   ]
  },
  {
   "cell_type": "code",
   "execution_count": 15,
   "id": "e877632d-36ea-43e2-b15d-d9d3f1769f2c",
   "metadata": {},
   "outputs": [
    {
     "data": {
      "text/html": [
       "<div>\n",
       "<style scoped>\n",
       "    .dataframe tbody tr th:only-of-type {\n",
       "        vertical-align: middle;\n",
       "    }\n",
       "\n",
       "    .dataframe tbody tr th {\n",
       "        vertical-align: top;\n",
       "    }\n",
       "\n",
       "    .dataframe thead th {\n",
       "        text-align: right;\n",
       "    }\n",
       "</style>\n",
       "<table border=\"1\" class=\"dataframe\">\n",
       "  <thead>\n",
       "    <tr style=\"text-align: right;\">\n",
       "      <th></th>\n",
       "      <th>User ID</th>\n",
       "      <th>Age</th>\n",
       "      <th>AnnualSalary</th>\n",
       "      <th>Purchased</th>\n",
       "    </tr>\n",
       "  </thead>\n",
       "  <tbody>\n",
       "    <tr>\n",
       "      <th>count</th>\n",
       "      <td>1000.000000</td>\n",
       "      <td>1000.000000</td>\n",
       "      <td>1000.000000</td>\n",
       "      <td>1000.000000</td>\n",
       "    </tr>\n",
       "    <tr>\n",
       "      <th>mean</th>\n",
       "      <td>500.500000</td>\n",
       "      <td>40.106000</td>\n",
       "      <td>72689.000000</td>\n",
       "      <td>0.402000</td>\n",
       "    </tr>\n",
       "    <tr>\n",
       "      <th>std</th>\n",
       "      <td>288.819436</td>\n",
       "      <td>10.707073</td>\n",
       "      <td>34488.341867</td>\n",
       "      <td>0.490547</td>\n",
       "    </tr>\n",
       "    <tr>\n",
       "      <th>min</th>\n",
       "      <td>1.000000</td>\n",
       "      <td>18.000000</td>\n",
       "      <td>15000.000000</td>\n",
       "      <td>0.000000</td>\n",
       "    </tr>\n",
       "    <tr>\n",
       "      <th>25%</th>\n",
       "      <td>250.750000</td>\n",
       "      <td>32.000000</td>\n",
       "      <td>46375.000000</td>\n",
       "      <td>0.000000</td>\n",
       "    </tr>\n",
       "    <tr>\n",
       "      <th>50%</th>\n",
       "      <td>500.500000</td>\n",
       "      <td>40.000000</td>\n",
       "      <td>72000.000000</td>\n",
       "      <td>0.000000</td>\n",
       "    </tr>\n",
       "    <tr>\n",
       "      <th>75%</th>\n",
       "      <td>750.250000</td>\n",
       "      <td>48.000000</td>\n",
       "      <td>90000.000000</td>\n",
       "      <td>1.000000</td>\n",
       "    </tr>\n",
       "    <tr>\n",
       "      <th>max</th>\n",
       "      <td>1000.000000</td>\n",
       "      <td>63.000000</td>\n",
       "      <td>152500.000000</td>\n",
       "      <td>1.000000</td>\n",
       "    </tr>\n",
       "  </tbody>\n",
       "</table>\n",
       "</div>"
      ],
      "text/plain": [
       "           User ID          Age   AnnualSalary    Purchased\n",
       "count  1000.000000  1000.000000    1000.000000  1000.000000\n",
       "mean    500.500000    40.106000   72689.000000     0.402000\n",
       "std     288.819436    10.707073   34488.341867     0.490547\n",
       "min       1.000000    18.000000   15000.000000     0.000000\n",
       "25%     250.750000    32.000000   46375.000000     0.000000\n",
       "50%     500.500000    40.000000   72000.000000     0.000000\n",
       "75%     750.250000    48.000000   90000.000000     1.000000\n",
       "max    1000.000000    63.000000  152500.000000     1.000000"
      ]
     },
     "execution_count": 15,
     "metadata": {},
     "output_type": "execute_result"
    }
   ],
   "source": [
    "df.describe()"
   ]
  },
  {
   "cell_type": "code",
   "execution_count": 16,
   "id": "54a4e1d8-db7a-4677-a75c-bdc68e732199",
   "metadata": {},
   "outputs": [
    {
     "data": {
      "text/plain": [
       "0"
      ]
     },
     "execution_count": 16,
     "metadata": {},
     "output_type": "execute_result"
    }
   ],
   "source": [
    "# check duplicates\n",
    "df.duplicated().sum()"
   ]
  },
  {
   "cell_type": "code",
   "execution_count": 17,
   "id": "704036ce-5ea6-45dc-be8c-4e57299d7407",
   "metadata": {},
   "outputs": [
    {
     "data": {
      "text/plain": [
       "User ID         0\n",
       "Gender          0\n",
       "Age             0\n",
       "AnnualSalary    0\n",
       "Purchased       0\n",
       "dtype: int64"
      ]
     },
     "execution_count": 17,
     "metadata": {},
     "output_type": "execute_result"
    }
   ],
   "source": [
    "# check nan values\n",
    "df.isna().sum()"
   ]
  },
  {
   "cell_type": "code",
   "execution_count": 18,
   "id": "65066f62-aa96-40b8-a1c6-6380728ce86e",
   "metadata": {},
   "outputs": [
    {
     "data": {
      "text/html": [
       "<div>\n",
       "<style scoped>\n",
       "    .dataframe tbody tr th:only-of-type {\n",
       "        vertical-align: middle;\n",
       "    }\n",
       "\n",
       "    .dataframe tbody tr th {\n",
       "        vertical-align: top;\n",
       "    }\n",
       "\n",
       "    .dataframe thead th {\n",
       "        text-align: right;\n",
       "    }\n",
       "</style>\n",
       "<table border=\"1\" class=\"dataframe\">\n",
       "  <thead>\n",
       "    <tr style=\"text-align: right;\">\n",
       "      <th></th>\n",
       "      <th>User ID</th>\n",
       "      <th>Gender</th>\n",
       "      <th>Age</th>\n",
       "      <th>AnnualSalary</th>\n",
       "      <th>Purchased</th>\n",
       "    </tr>\n",
       "  </thead>\n",
       "  <tbody>\n",
       "    <tr>\n",
       "      <th>0</th>\n",
       "      <td>385</td>\n",
       "      <td>Male</td>\n",
       "      <td>35</td>\n",
       "      <td>20000</td>\n",
       "      <td>0</td>\n",
       "    </tr>\n",
       "    <tr>\n",
       "      <th>1</th>\n",
       "      <td>681</td>\n",
       "      <td>Male</td>\n",
       "      <td>40</td>\n",
       "      <td>43500</td>\n",
       "      <td>0</td>\n",
       "    </tr>\n",
       "    <tr>\n",
       "      <th>2</th>\n",
       "      <td>353</td>\n",
       "      <td>Male</td>\n",
       "      <td>49</td>\n",
       "      <td>74000</td>\n",
       "      <td>0</td>\n",
       "    </tr>\n",
       "    <tr>\n",
       "      <th>3</th>\n",
       "      <td>895</td>\n",
       "      <td>Male</td>\n",
       "      <td>40</td>\n",
       "      <td>107500</td>\n",
       "      <td>1</td>\n",
       "    </tr>\n",
       "    <tr>\n",
       "      <th>4</th>\n",
       "      <td>661</td>\n",
       "      <td>Male</td>\n",
       "      <td>25</td>\n",
       "      <td>79000</td>\n",
       "      <td>0</td>\n",
       "    </tr>\n",
       "  </tbody>\n",
       "</table>\n",
       "</div>"
      ],
      "text/plain": [
       "   User ID Gender  Age  AnnualSalary  Purchased\n",
       "0      385   Male   35         20000          0\n",
       "1      681   Male   40         43500          0\n",
       "2      353   Male   49         74000          0\n",
       "3      895   Male   40        107500          1\n",
       "4      661   Male   25         79000          0"
      ]
     },
     "execution_count": 18,
     "metadata": {},
     "output_type": "execute_result"
    }
   ],
   "source": [
    "df.head()"
   ]
  },
  {
   "cell_type": "code",
   "execution_count": 19,
   "id": "cb0fee79-2e0e-4ebb-94d2-245a159f6a62",
   "metadata": {},
   "outputs": [],
   "source": [
    "# make gender numeric\n",
    "from sklearn.preprocessing import LabelEncoder\n",
    "variables = ['Gender']\n",
    "encoder = LabelEncoder()\n",
    "df[variables] = df[variables].apply(encoder.fit_transform)"
   ]
  },
  {
   "cell_type": "code",
   "execution_count": 20,
   "id": "e1d6db19-092c-4727-b919-fe2273979f8b",
   "metadata": {},
   "outputs": [
    {
     "data": {
      "text/html": [
       "<div>\n",
       "<style scoped>\n",
       "    .dataframe tbody tr th:only-of-type {\n",
       "        vertical-align: middle;\n",
       "    }\n",
       "\n",
       "    .dataframe tbody tr th {\n",
       "        vertical-align: top;\n",
       "    }\n",
       "\n",
       "    .dataframe thead th {\n",
       "        text-align: right;\n",
       "    }\n",
       "</style>\n",
       "<table border=\"1\" class=\"dataframe\">\n",
       "  <thead>\n",
       "    <tr style=\"text-align: right;\">\n",
       "      <th></th>\n",
       "      <th>User ID</th>\n",
       "      <th>Gender</th>\n",
       "      <th>Age</th>\n",
       "      <th>AnnualSalary</th>\n",
       "      <th>Purchased</th>\n",
       "    </tr>\n",
       "  </thead>\n",
       "  <tbody>\n",
       "    <tr>\n",
       "      <th>0</th>\n",
       "      <td>385</td>\n",
       "      <td>1</td>\n",
       "      <td>35</td>\n",
       "      <td>20000</td>\n",
       "      <td>0</td>\n",
       "    </tr>\n",
       "    <tr>\n",
       "      <th>1</th>\n",
       "      <td>681</td>\n",
       "      <td>1</td>\n",
       "      <td>40</td>\n",
       "      <td>43500</td>\n",
       "      <td>0</td>\n",
       "    </tr>\n",
       "    <tr>\n",
       "      <th>2</th>\n",
       "      <td>353</td>\n",
       "      <td>1</td>\n",
       "      <td>49</td>\n",
       "      <td>74000</td>\n",
       "      <td>0</td>\n",
       "    </tr>\n",
       "    <tr>\n",
       "      <th>3</th>\n",
       "      <td>895</td>\n",
       "      <td>1</td>\n",
       "      <td>40</td>\n",
       "      <td>107500</td>\n",
       "      <td>1</td>\n",
       "    </tr>\n",
       "    <tr>\n",
       "      <th>4</th>\n",
       "      <td>661</td>\n",
       "      <td>1</td>\n",
       "      <td>25</td>\n",
       "      <td>79000</td>\n",
       "      <td>0</td>\n",
       "    </tr>\n",
       "  </tbody>\n",
       "</table>\n",
       "</div>"
      ],
      "text/plain": [
       "   User ID  Gender  Age  AnnualSalary  Purchased\n",
       "0      385       1   35         20000          0\n",
       "1      681       1   40         43500          0\n",
       "2      353       1   49         74000          0\n",
       "3      895       1   40        107500          1\n",
       "4      661       1   25         79000          0"
      ]
     },
     "execution_count": 20,
     "metadata": {},
     "output_type": "execute_result"
    }
   ],
   "source": [
    "df.head()"
   ]
  },
  {
   "cell_type": "markdown",
   "id": "e38a3665-e460-4af2-81bb-74cd4b3407ea",
   "metadata": {},
   "source": [
    "# X/y -split"
   ]
  },
  {
   "cell_type": "code",
   "execution_count": 21,
   "id": "64485d55-a578-4b72-b965-895962c4e8db",
   "metadata": {},
   "outputs": [],
   "source": [
    "X = df.drop('Purchased', axis=1)\n",
    "y = df['Purchased']"
   ]
  },
  {
   "cell_type": "markdown",
   "id": "d6a6c078-ae87-41c5-817b-15094bc88a63",
   "metadata": {},
   "source": [
    "# Decision tree and analysis"
   ]
  },
  {
   "cell_type": "code",
   "execution_count": 22,
   "id": "2760a38e-fd99-4b23-960c-3f0d7d9c74cd",
   "metadata": {},
   "outputs": [],
   "source": [
    "# Fit the decision tree classifier with default hyper-parameters\n",
    "clf = DecisionTreeClassifier()\n",
    "model = clf.fit(X, y)"
   ]
  },
  {
   "cell_type": "code",
   "execution_count": 23,
   "id": "6a9360c4-7853-4c69-aecb-84a9c334dcab",
   "metadata": {},
   "outputs": [
    {
     "name": "stderr",
     "output_type": "stream",
     "text": [
      "/Users/vladislav/opt/anaconda3/lib/python3.9/site-packages/sklearn/base.py:450: UserWarning: X does not have valid feature names, but DecisionTreeClassifier was fitted with feature names\n"
     ]
    }
   ],
   "source": [
    "# pip install dtreeviz\n",
    "import dtreeviz\n",
    "viz_model = dtreeviz.model(clf,\n",
    "                           X_train=X, y_train=y,\n",
    "                           feature_names=X.columns,\n",
    "                           target_name='Decision',\n",
    "                           class_names=[\"No\", \"Yes\"])\n",
    "\n",
    "# for viewing in the Jupyter notebook\n",
    "# Note: this is not practical with large \n",
    "# decision trees!\n",
    "# adjust the scale if you need a bigger picture (for example 2.5)\n",
    "viz_model.view(scale=1.5).save(\"dt_cars_test.svg\") "
   ]
  },
  {
   "cell_type": "markdown",
   "id": "9b1dab10-7bd8-4215-86f9-e730ee971503",
   "metadata": {},
   "source": [
    "Analysis:\n",
    "1. Usually people buy cars when they are older than 44.5 years\n",
    "2. Annual salary should be more 90 000\n",
    "3. Age is the most important factor"
   ]
  },
  {
   "cell_type": "code",
   "execution_count": 24,
   "id": "42eca46f-5d23-40d4-81c4-f1f930071c91",
   "metadata": {},
   "outputs": [
    {
     "data": {
      "text/plain": [
       "0"
      ]
     },
     "execution_count": 24,
     "metadata": {},
     "output_type": "execute_result"
    }
   ],
   "source": [
    "from sklearn.tree import export_graphviz\n",
    "import subprocess\n",
    "from sklearn import tree\n",
    "\n",
    "# Export the decision tree to DOT format\n",
    "export_graphviz(clf, \n",
    "                   feature_names=X.columns,  \n",
    "                   class_names=[\"No\", \"Yes\"],\n",
    "                   filled=True, rounded=True, node_ids=True, out_file='tree.dot')\n",
    "\n",
    "\n",
    "\n",
    "# Convert DOT to SVG\n",
    "subprocess.call(['dot', '-Tsvg', 'tree.dot', '-o', 'dt_cars_test_sk.svg'])"
   ]
  },
  {
   "cell_type": "markdown",
   "id": "d35ef8de-a804-440a-a9e5-1b47dd78b300",
   "metadata": {},
   "source": [
    "Analysis:\n",
    "1. Age is more important than salary\n",
    "2. But salary is dependant variable (more age --> more salary)\n",
    "3. Data is overlapping"
   ]
  },
  {
   "cell_type": "code",
   "execution_count": null,
   "id": "1135b2a4-141b-4fe5-8790-88bae2d252b6",
   "metadata": {},
   "outputs": [],
   "source": []
  }
 ],
 "metadata": {
  "kernelspec": {
   "display_name": "Python 3 (ipykernel)",
   "language": "python",
   "name": "python3"
  },
  "language_info": {
   "codemirror_mode": {
    "name": "ipython",
    "version": 3
   },
   "file_extension": ".py",
   "mimetype": "text/x-python",
   "name": "python",
   "nbconvert_exporter": "python",
   "pygments_lexer": "ipython3",
   "version": "3.9.13"
  }
 },
 "nbformat": 4,
 "nbformat_minor": 5
}
