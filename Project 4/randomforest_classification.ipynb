{
 "cells": [
  {
   "cell_type": "markdown",
   "id": "d19d2c90-184f-43cb-b8e5-45a00adb0336",
   "metadata": {},
   "source": [
    "I took data that I used for Logistic Regression and SVC"
   ]
  },
  {
   "cell_type": "markdown",
   "id": "09a6b82a-acc8-4abe-8137-db09c97e966a",
   "metadata": {},
   "source": [
    "# Load data"
   ]
  },
  {
   "cell_type": "code",
   "execution_count": 1,
   "id": "48d4f5ba-c5df-46b6-adfe-8394698c5e13",
   "metadata": {},
   "outputs": [],
   "source": [
    "# import libraries\n",
    "import pandas as pd\n",
    "import numpy as np\n",
    "import matplotlib.pyplot as plt\n",
    "import seaborn as sns\n",
    "\n",
    "# pip install scikit-learn\n",
    "from sklearn.model_selection import train_test_split\n",
    "from sklearn import metrics\n",
    "from sklearn.pipeline import make_pipeline\n",
    "from sklearn.ensemble import RandomForestClassifier\n",
    "from sklearn.preprocessing import MinMaxScaler, StandardScaler\n",
    "from sklearn.metrics import classification_report\n",
    "from sklearn.metrics import confusion_matrix\n",
    "from sklearn.metrics import accuracy_score\n",
    "from sklearn.metrics import roc_auc_score"
   ]
  },
  {
   "cell_type": "code",
   "execution_count": 2,
   "id": "9ab01a2a-ec40-4fb0-bd93-45ce0eb6f7fc",
   "metadata": {},
   "outputs": [],
   "source": [
    "# load data\n",
    "df = pd.read_csv(\"newbankdata.csv\")"
   ]
  },
  {
   "cell_type": "code",
   "execution_count": 3,
   "id": "f2c04cc2-1ef1-48c1-aee3-d945583101e1",
   "metadata": {},
   "outputs": [
    {
     "data": {
      "text/html": [
       "<div>\n",
       "<style scoped>\n",
       "    .dataframe tbody tr th:only-of-type {\n",
       "        vertical-align: middle;\n",
       "    }\n",
       "\n",
       "    .dataframe tbody tr th {\n",
       "        vertical-align: top;\n",
       "    }\n",
       "\n",
       "    .dataframe thead th {\n",
       "        text-align: right;\n",
       "    }\n",
       "</style>\n",
       "<table border=\"1\" class=\"dataframe\">\n",
       "  <thead>\n",
       "    <tr style=\"text-align: right;\">\n",
       "      <th></th>\n",
       "      <th>Customer_Age</th>\n",
       "      <th>Gender</th>\n",
       "      <th>Dependent_count</th>\n",
       "      <th>Months_on_book</th>\n",
       "      <th>Total_Relationship_Count</th>\n",
       "      <th>Months_Inactive_12_mon</th>\n",
       "      <th>Contacts_Count_12_mon</th>\n",
       "      <th>Credit_Limit</th>\n",
       "      <th>Total_Revolving_Bal</th>\n",
       "      <th>Avg_Open_To_Buy</th>\n",
       "      <th>...</th>\n",
       "      <th>Married</th>\n",
       "      <th>Single</th>\n",
       "      <th>$120K +</th>\n",
       "      <th>$40K - $60K</th>\n",
       "      <th>$60K - $80K</th>\n",
       "      <th>$80K - $120K</th>\n",
       "      <th>Less than $40K</th>\n",
       "      <th>Blue</th>\n",
       "      <th>Gold</th>\n",
       "      <th>Silver</th>\n",
       "    </tr>\n",
       "  </thead>\n",
       "  <tbody>\n",
       "    <tr>\n",
       "      <th>0</th>\n",
       "      <td>44</td>\n",
       "      <td>1</td>\n",
       "      <td>2</td>\n",
       "      <td>36</td>\n",
       "      <td>3</td>\n",
       "      <td>1</td>\n",
       "      <td>2</td>\n",
       "      <td>4010.0</td>\n",
       "      <td>1247</td>\n",
       "      <td>2763.0</td>\n",
       "      <td>...</td>\n",
       "      <td>1</td>\n",
       "      <td>0</td>\n",
       "      <td>0</td>\n",
       "      <td>1</td>\n",
       "      <td>0</td>\n",
       "      <td>0</td>\n",
       "      <td>0</td>\n",
       "      <td>1</td>\n",
       "      <td>0</td>\n",
       "      <td>0</td>\n",
       "    </tr>\n",
       "    <tr>\n",
       "      <th>1</th>\n",
       "      <td>57</td>\n",
       "      <td>0</td>\n",
       "      <td>2</td>\n",
       "      <td>48</td>\n",
       "      <td>5</td>\n",
       "      <td>2</td>\n",
       "      <td>2</td>\n",
       "      <td>2436.0</td>\n",
       "      <td>680</td>\n",
       "      <td>1756.0</td>\n",
       "      <td>...</td>\n",
       "      <td>1</td>\n",
       "      <td>0</td>\n",
       "      <td>0</td>\n",
       "      <td>0</td>\n",
       "      <td>0</td>\n",
       "      <td>0</td>\n",
       "      <td>1</td>\n",
       "      <td>1</td>\n",
       "      <td>0</td>\n",
       "      <td>0</td>\n",
       "    </tr>\n",
       "    <tr>\n",
       "      <th>2</th>\n",
       "      <td>45</td>\n",
       "      <td>0</td>\n",
       "      <td>2</td>\n",
       "      <td>37</td>\n",
       "      <td>6</td>\n",
       "      <td>1</td>\n",
       "      <td>2</td>\n",
       "      <td>14470.0</td>\n",
       "      <td>1157</td>\n",
       "      <td>13313.0</td>\n",
       "      <td>...</td>\n",
       "      <td>1</td>\n",
       "      <td>0</td>\n",
       "      <td>0</td>\n",
       "      <td>0</td>\n",
       "      <td>0</td>\n",
       "      <td>0</td>\n",
       "      <td>0</td>\n",
       "      <td>1</td>\n",
       "      <td>0</td>\n",
       "      <td>0</td>\n",
       "    </tr>\n",
       "    <tr>\n",
       "      <th>3</th>\n",
       "      <td>62</td>\n",
       "      <td>0</td>\n",
       "      <td>0</td>\n",
       "      <td>49</td>\n",
       "      <td>2</td>\n",
       "      <td>3</td>\n",
       "      <td>3</td>\n",
       "      <td>1438.3</td>\n",
       "      <td>0</td>\n",
       "      <td>1438.3</td>\n",
       "      <td>...</td>\n",
       "      <td>1</td>\n",
       "      <td>0</td>\n",
       "      <td>0</td>\n",
       "      <td>0</td>\n",
       "      <td>0</td>\n",
       "      <td>0</td>\n",
       "      <td>1</td>\n",
       "      <td>1</td>\n",
       "      <td>0</td>\n",
       "      <td>0</td>\n",
       "    </tr>\n",
       "    <tr>\n",
       "      <th>4</th>\n",
       "      <td>47</td>\n",
       "      <td>0</td>\n",
       "      <td>4</td>\n",
       "      <td>36</td>\n",
       "      <td>3</td>\n",
       "      <td>3</td>\n",
       "      <td>2</td>\n",
       "      <td>2492.0</td>\n",
       "      <td>1560</td>\n",
       "      <td>932.0</td>\n",
       "      <td>...</td>\n",
       "      <td>0</td>\n",
       "      <td>1</td>\n",
       "      <td>0</td>\n",
       "      <td>0</td>\n",
       "      <td>0</td>\n",
       "      <td>0</td>\n",
       "      <td>1</td>\n",
       "      <td>1</td>\n",
       "      <td>0</td>\n",
       "      <td>0</td>\n",
       "    </tr>\n",
       "  </tbody>\n",
       "</table>\n",
       "<p>5 rows × 33 columns</p>\n",
       "</div>"
      ],
      "text/plain": [
       "   Customer_Age  Gender  Dependent_count  Months_on_book  \\\n",
       "0            44       1                2              36   \n",
       "1            57       0                2              48   \n",
       "2            45       0                2              37   \n",
       "3            62       0                0              49   \n",
       "4            47       0                4              36   \n",
       "\n",
       "   Total_Relationship_Count  Months_Inactive_12_mon  Contacts_Count_12_mon  \\\n",
       "0                         3                       1                      2   \n",
       "1                         5                       2                      2   \n",
       "2                         6                       1                      2   \n",
       "3                         2                       3                      3   \n",
       "4                         3                       3                      2   \n",
       "\n",
       "   Credit_Limit  Total_Revolving_Bal  Avg_Open_To_Buy  ...  Married  Single  \\\n",
       "0        4010.0                 1247           2763.0  ...        1       0   \n",
       "1        2436.0                  680           1756.0  ...        1       0   \n",
       "2       14470.0                 1157          13313.0  ...        1       0   \n",
       "3        1438.3                    0           1438.3  ...        1       0   \n",
       "4        2492.0                 1560            932.0  ...        0       1   \n",
       "\n",
       "   $120K +  $40K - $60K  $60K - $80K  $80K - $120K  Less than $40K  Blue  \\\n",
       "0        0            1            0             0               0     1   \n",
       "1        0            0            0             0               1     1   \n",
       "2        0            0            0             0               0     1   \n",
       "3        0            0            0             0               1     1   \n",
       "4        0            0            0             0               1     1   \n",
       "\n",
       "   Gold  Silver  \n",
       "0     0       0  \n",
       "1     0       0  \n",
       "2     0       0  \n",
       "3     0       0  \n",
       "4     0       0  \n",
       "\n",
       "[5 rows x 33 columns]"
      ]
     },
     "execution_count": 3,
     "metadata": {},
     "output_type": "execute_result"
    }
   ],
   "source": [
    "df.head()"
   ]
  },
  {
   "cell_type": "markdown",
   "id": "8010c15b-d963-4e66-a3a7-a21bec37e46e",
   "metadata": {},
   "source": [
    "# X/y split"
   ]
  },
  {
   "cell_type": "code",
   "execution_count": 4,
   "id": "16a36137-7ba5-460b-b4cd-c135a0892d58",
   "metadata": {},
   "outputs": [],
   "source": [
    "# a common trick in X/y -split\n",
    "# X = everything else in the DataFrame minus the target variable\n",
    "# y = only the target variable\n",
    "X = df.drop('Attrition_Flag_Existing Customer', axis=1)\n",
    "y = df['Attrition_Flag_Existing Customer']"
   ]
  },
  {
   "cell_type": "code",
   "execution_count": 5,
   "id": "d4ed4ef8-0690-4569-9912-2a750d300aeb",
   "metadata": {},
   "outputs": [],
   "source": [
    "# split the data into train/test split\n",
    "X_train, X_test, y_train, y_test = train_test_split(X, y, test_size=0.25)"
   ]
  },
  {
   "cell_type": "markdown",
   "id": "1d7a916c-4670-4f49-8d6f-e11533948351",
   "metadata": {},
   "source": [
    "# Create a model"
   ]
  },
  {
   "cell_type": "code",
   "execution_count": 6,
   "id": "c7b75294-0bb7-418c-926a-f91f7e5a3c18",
   "metadata": {},
   "outputs": [
    {
     "data": {
      "text/plain": [
       "Pipeline(steps=[('standardscaler', StandardScaler()),\n",
       "                ('randomforestclassifier', RandomForestClassifier())])"
      ]
     },
     "execution_count": 6,
     "metadata": {},
     "output_type": "execute_result"
    }
   ],
   "source": [
    "# create model\n",
    "model = make_pipeline(StandardScaler(), RandomForestClassifier())\n",
    "model.fit(X_train, y_train)"
   ]
  },
  {
   "cell_type": "markdown",
   "id": "b6699655-39a2-4181-a09a-3098473f8a6d",
   "metadata": {},
   "source": [
    "# Metrics and analysis"
   ]
  },
  {
   "cell_type": "code",
   "execution_count": 7,
   "id": "fa55c319-4f2a-46f1-a33e-261032bd6f4b",
   "metadata": {},
   "outputs": [],
   "source": [
    "predictions = model.predict(X_test)"
   ]
  },
  {
   "cell_type": "code",
   "execution_count": 8,
   "id": "8dc2f080-e983-4acc-b5d1-e40c79607a8e",
   "metadata": {},
   "outputs": [
    {
     "name": "stdout",
     "output_type": "stream",
     "text": [
      "              precision    recall  f1-score   support\n",
      "\n",
      "           0       0.93      0.74      0.83       274\n",
      "           1       0.95      0.99      0.97      1432\n",
      "\n",
      "    accuracy                           0.95      1706\n",
      "   macro avg       0.94      0.87      0.90      1706\n",
      "weighted avg       0.95      0.95      0.95      1706\n",
      "\n",
      "\n",
      "Model overall accuracy: 94.96%\n"
     ]
    }
   ],
   "source": [
    "# print the classification report based on true values and predictions\n",
    "print(classification_report(y_test, predictions))\n",
    "\n",
    "# get overall accuracy of the model and print it\n",
    "acc = accuracy_score(y_test, predictions)\n",
    "print(\"\\nModel overall accuracy: {:.2f}%\".format(acc * 100))\n",
    "\n",
    "# accuracy is very good\n",
    "\n",
    "# in Logistic regression \n",
    "# Model overall accuracy: 90.13%\n",
    "\n",
    "# In SVC\n",
    "# Model overall accuracy: 92.56%\n",
    "\n",
    "# the best result with the Random Forest"
   ]
  },
  {
   "cell_type": "code",
   "execution_count": 9,
   "id": "39a680c4-2cc9-40c1-afe5-affafb46d0fd",
   "metadata": {},
   "outputs": [
    {
     "data": {
      "text/plain": [
       "<AxesSubplot:>"
      ]
     },
     "execution_count": 9,
     "metadata": {},
     "output_type": "execute_result"
    },
    {
     "data": {
      "image/png": "[encoded data removed]",
      "text/plain": [
       "<Figure size 640x480 with 2 Axes>"
      ]
     },
     "metadata": {},
     "output_type": "display_data"
    }
   ],
   "source": [
    "sns.heatmap(confusion_matrix(y_test, predictions), annot=True)"
   ]
  },
  {
   "cell_type": "code",
   "execution_count": 10,
   "id": "04599e5c-0ed6-4af5-9f5c-5cfc265cbda4",
   "metadata": {},
   "outputs": [
    {
     "name": "stdout",
     "output_type": "stream",
     "text": [
      "[[ 204   70]\n",
      " [  16 1416]]\n"
     ]
    }
   ],
   "source": [
    "print(confusion_matrix(y_test, predictions))\n",
    "\n",
    "# not many mistakes"
   ]
  },
  {
   "cell_type": "code",
   "execution_count": 11,
   "id": "7aaa2376-3bdf-42bf-a33b-a047ea5b1488",
   "metadata": {},
   "outputs": [
    {
     "data": {
      "text/plain": [
       "0.9864209109815275"
      ]
     },
     "execution_count": 11,
     "metadata": {},
     "output_type": "execute_result"
    }
   ],
   "source": [
    "# basically 0.5 means you could get the same result with just random guessing\n",
    "roc_auc_score(y_test.values, model.predict_proba(X_test)[:, 1])\n",
    "\n",
    "# in Logistic regression \n",
    "# 0.4894710946715216\n",
    "\n",
    "# In SVC\n",
    "# 0.9734109762039079\n",
    "\n",
    "# here is the best result"
   ]
  },
  {
   "cell_type": "code",
   "execution_count": null,
   "id": "454bbbd7-1897-4e03-a3c3-8ff262701245",
   "metadata": {},
   "outputs": [],
   "source": []
  }
 ],
 "metadata": {
  "kernelspec": {
   "display_name": "Python 3 (ipykernel)",
   "language": "python",
   "name": "python3"
  },
  "language_info": {
   "codemirror_mode": {
    "name": "ipython",
    "version": 3
   },
   "file_extension": ".py",
   "mimetype": "text/x-python",
   "name": "python",
   "nbconvert_exporter": "python",
   "pygments_lexer": "ipython3",
   "version": "3.9.13"
  }
 },
 "nbformat": 4,
 "nbformat_minor": 5
}
