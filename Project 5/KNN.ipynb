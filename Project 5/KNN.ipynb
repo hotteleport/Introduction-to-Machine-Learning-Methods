{
 "cells": [
  {
   "cell_type": "markdown",
   "id": "638bdc92-e323-46b3-8ece-531242dc4db7",
   "metadata": {},
   "source": [
    "# Load and clean data"
   ]
  },
  {
   "cell_type": "markdown",
   "id": "9bd59911-44bb-4558-84a2-39cc16835b65",
   "metadata": {},
   "source": [
    "Link for the dataset\n",
    "https://www.kaggle.com/datasets/youssefaboelwafa/hotel-booking-cancellation-prediction"
   ]
  },
  {
   "cell_type": "code",
   "execution_count": 56,
   "id": "43502a94-3595-4776-930f-2f9dc8ee2d16",
   "metadata": {},
   "outputs": [],
   "source": [
    "# import libraries\n",
    "import pandas as pd\n",
    "import numpy as np\n",
    "import matplotlib.pyplot as plt\n",
    "import seaborn as sns\n",
    "\n",
    "# pip install scikit-learn\n",
    "from sklearn.model_selection import train_test_split\n",
    "from sklearn import metrics\n",
    "from sklearn.pipeline import make_pipeline\n",
    "from sklearn.neighbors import KNeighborsClassifier\n",
    "from sklearn.preprocessing import MinMaxScaler, StandardScaler\n",
    "from sklearn.metrics import classification_report\n",
    "from sklearn.metrics import confusion_matrix\n",
    "from sklearn.metrics import accuracy_score\n",
    "from sklearn.metrics import roc_auc_score"
   ]
  },
  {
   "cell_type": "code",
   "execution_count": 57,
   "id": "d0c1b442-8337-4b27-adfd-003cf1a58769",
   "metadata": {},
   "outputs": [],
   "source": [
    "# load the data\n",
    "df = pd.read_csv(\"booking.csv\")"
   ]
  },
  {
   "cell_type": "code",
   "execution_count": 58,
   "id": "b95ecc0d-a8d0-4c8f-9b37-824b5cfac594",
   "metadata": {},
   "outputs": [
    {
     "data": {
      "text/html": [
       "<div>\n",
       "<style scoped>\n",
       "    .dataframe tbody tr th:only-of-type {\n",
       "        vertical-align: middle;\n",
       "    }\n",
       "\n",
       "    .dataframe tbody tr th {\n",
       "        vertical-align: top;\n",
       "    }\n",
       "\n",
       "    .dataframe thead th {\n",
       "        text-align: right;\n",
       "    }\n",
       "</style>\n",
       "<table border=\"1\" class=\"dataframe\">\n",
       "  <thead>\n",
       "    <tr style=\"text-align: right;\">\n",
       "      <th></th>\n",
       "      <th>number of adults</th>\n",
       "      <th>number of children</th>\n",
       "      <th>number of weekend nights</th>\n",
       "      <th>number of week nights</th>\n",
       "      <th>car parking space</th>\n",
       "      <th>lead time</th>\n",
       "      <th>repeated</th>\n",
       "      <th>P-C</th>\n",
       "      <th>P-not-C</th>\n",
       "      <th>average price</th>\n",
       "      <th>special requests</th>\n",
       "    </tr>\n",
       "  </thead>\n",
       "  <tbody>\n",
       "    <tr>\n",
       "      <th>count</th>\n",
       "      <td>36285.000000</td>\n",
       "      <td>36285.000000</td>\n",
       "      <td>36285.000000</td>\n",
       "      <td>36285.000000</td>\n",
       "      <td>36285.000000</td>\n",
       "      <td>36285.000000</td>\n",
       "      <td>36285.000000</td>\n",
       "      <td>36285.000000</td>\n",
       "      <td>36285.000000</td>\n",
       "      <td>36285.000000</td>\n",
       "      <td>36285.000000</td>\n",
       "    </tr>\n",
       "    <tr>\n",
       "      <th>mean</th>\n",
       "      <td>1.844839</td>\n",
       "      <td>0.105360</td>\n",
       "      <td>0.810693</td>\n",
       "      <td>2.204602</td>\n",
       "      <td>0.030977</td>\n",
       "      <td>85.239851</td>\n",
       "      <td>0.025630</td>\n",
       "      <td>0.023343</td>\n",
       "      <td>0.153369</td>\n",
       "      <td>103.421636</td>\n",
       "      <td>0.619733</td>\n",
       "    </tr>\n",
       "    <tr>\n",
       "      <th>std</th>\n",
       "      <td>0.518813</td>\n",
       "      <td>0.402704</td>\n",
       "      <td>0.870590</td>\n",
       "      <td>1.410946</td>\n",
       "      <td>0.173258</td>\n",
       "      <td>85.938796</td>\n",
       "      <td>0.158032</td>\n",
       "      <td>0.368281</td>\n",
       "      <td>1.753931</td>\n",
       "      <td>35.086469</td>\n",
       "      <td>0.786262</td>\n",
       "    </tr>\n",
       "    <tr>\n",
       "      <th>min</th>\n",
       "      <td>0.000000</td>\n",
       "      <td>0.000000</td>\n",
       "      <td>0.000000</td>\n",
       "      <td>0.000000</td>\n",
       "      <td>0.000000</td>\n",
       "      <td>0.000000</td>\n",
       "      <td>0.000000</td>\n",
       "      <td>0.000000</td>\n",
       "      <td>0.000000</td>\n",
       "      <td>0.000000</td>\n",
       "      <td>0.000000</td>\n",
       "    </tr>\n",
       "    <tr>\n",
       "      <th>25%</th>\n",
       "      <td>2.000000</td>\n",
       "      <td>0.000000</td>\n",
       "      <td>0.000000</td>\n",
       "      <td>1.000000</td>\n",
       "      <td>0.000000</td>\n",
       "      <td>17.000000</td>\n",
       "      <td>0.000000</td>\n",
       "      <td>0.000000</td>\n",
       "      <td>0.000000</td>\n",
       "      <td>80.300000</td>\n",
       "      <td>0.000000</td>\n",
       "    </tr>\n",
       "    <tr>\n",
       "      <th>50%</th>\n",
       "      <td>2.000000</td>\n",
       "      <td>0.000000</td>\n",
       "      <td>1.000000</td>\n",
       "      <td>2.000000</td>\n",
       "      <td>0.000000</td>\n",
       "      <td>57.000000</td>\n",
       "      <td>0.000000</td>\n",
       "      <td>0.000000</td>\n",
       "      <td>0.000000</td>\n",
       "      <td>99.450000</td>\n",
       "      <td>0.000000</td>\n",
       "    </tr>\n",
       "    <tr>\n",
       "      <th>75%</th>\n",
       "      <td>2.000000</td>\n",
       "      <td>0.000000</td>\n",
       "      <td>2.000000</td>\n",
       "      <td>3.000000</td>\n",
       "      <td>0.000000</td>\n",
       "      <td>126.000000</td>\n",
       "      <td>0.000000</td>\n",
       "      <td>0.000000</td>\n",
       "      <td>0.000000</td>\n",
       "      <td>120.000000</td>\n",
       "      <td>1.000000</td>\n",
       "    </tr>\n",
       "    <tr>\n",
       "      <th>max</th>\n",
       "      <td>4.000000</td>\n",
       "      <td>10.000000</td>\n",
       "      <td>7.000000</td>\n",
       "      <td>17.000000</td>\n",
       "      <td>1.000000</td>\n",
       "      <td>443.000000</td>\n",
       "      <td>1.000000</td>\n",
       "      <td>13.000000</td>\n",
       "      <td>58.000000</td>\n",
       "      <td>540.000000</td>\n",
       "      <td>5.000000</td>\n",
       "    </tr>\n",
       "  </tbody>\n",
       "</table>\n",
       "</div>"
      ],
      "text/plain": [
       "       number of adults  number of children  number of weekend nights  \\\n",
       "count      36285.000000        36285.000000              36285.000000   \n",
       "mean           1.844839            0.105360                  0.810693   \n",
       "std            0.518813            0.402704                  0.870590   \n",
       "min            0.000000            0.000000                  0.000000   \n",
       "25%            2.000000            0.000000                  0.000000   \n",
       "50%            2.000000            0.000000                  1.000000   \n",
       "75%            2.000000            0.000000                  2.000000   \n",
       "max            4.000000           10.000000                  7.000000   \n",
       "\n",
       "       number of week nights  car parking space     lead time      repeated  \\\n",
       "count           36285.000000       36285.000000  36285.000000  36285.000000   \n",
       "mean                2.204602           0.030977     85.239851      0.025630   \n",
       "std                 1.410946           0.173258     85.938796      0.158032   \n",
       "min                 0.000000           0.000000      0.000000      0.000000   \n",
       "25%                 1.000000           0.000000     17.000000      0.000000   \n",
       "50%                 2.000000           0.000000     57.000000      0.000000   \n",
       "75%                 3.000000           0.000000    126.000000      0.000000   \n",
       "max                17.000000           1.000000    443.000000      1.000000   \n",
       "\n",
       "                P-C       P-not-C  average price  special requests  \n",
       "count  36285.000000  36285.000000   36285.000000      36285.000000  \n",
       "mean       0.023343      0.153369     103.421636          0.619733  \n",
       "std        0.368281      1.753931      35.086469          0.786262  \n",
       "min        0.000000      0.000000       0.000000          0.000000  \n",
       "25%        0.000000      0.000000      80.300000          0.000000  \n",
       "50%        0.000000      0.000000      99.450000          0.000000  \n",
       "75%        0.000000      0.000000     120.000000          1.000000  \n",
       "max       13.000000     58.000000     540.000000          5.000000  "
      ]
     },
     "execution_count": 58,
     "metadata": {},
     "output_type": "execute_result"
    }
   ],
   "source": [
    "df.describe()"
   ]
  },
  {
   "cell_type": "code",
   "execution_count": 59,
   "id": "461be0eb-5f22-4700-8373-3de6cde88027",
   "metadata": {},
   "outputs": [
    {
     "data": {
      "text/html": [
       "<div>\n",
       "<style scoped>\n",
       "    .dataframe tbody tr th:only-of-type {\n",
       "        vertical-align: middle;\n",
       "    }\n",
       "\n",
       "    .dataframe tbody tr th {\n",
       "        vertical-align: top;\n",
       "    }\n",
       "\n",
       "    .dataframe thead th {\n",
       "        text-align: right;\n",
       "    }\n",
       "</style>\n",
       "<table border=\"1\" class=\"dataframe\">\n",
       "  <thead>\n",
       "    <tr style=\"text-align: right;\">\n",
       "      <th></th>\n",
       "      <th>Booking_ID</th>\n",
       "      <th>number of adults</th>\n",
       "      <th>number of children</th>\n",
       "      <th>number of weekend nights</th>\n",
       "      <th>number of week nights</th>\n",
       "      <th>type of meal</th>\n",
       "      <th>car parking space</th>\n",
       "      <th>room type</th>\n",
       "      <th>lead time</th>\n",
       "      <th>market segment type</th>\n",
       "      <th>repeated</th>\n",
       "      <th>P-C</th>\n",
       "      <th>P-not-C</th>\n",
       "      <th>average price</th>\n",
       "      <th>special requests</th>\n",
       "      <th>date of reservation</th>\n",
       "      <th>booking status</th>\n",
       "    </tr>\n",
       "  </thead>\n",
       "  <tbody>\n",
       "    <tr>\n",
       "      <th>0</th>\n",
       "      <td>INN00001</td>\n",
       "      <td>1</td>\n",
       "      <td>1</td>\n",
       "      <td>2</td>\n",
       "      <td>5</td>\n",
       "      <td>Meal Plan 1</td>\n",
       "      <td>0</td>\n",
       "      <td>Room_Type 1</td>\n",
       "      <td>224</td>\n",
       "      <td>Offline</td>\n",
       "      <td>0</td>\n",
       "      <td>0</td>\n",
       "      <td>0</td>\n",
       "      <td>88.00</td>\n",
       "      <td>0</td>\n",
       "      <td>10/2/2015</td>\n",
       "      <td>Not_Canceled</td>\n",
       "    </tr>\n",
       "    <tr>\n",
       "      <th>1</th>\n",
       "      <td>INN00002</td>\n",
       "      <td>1</td>\n",
       "      <td>0</td>\n",
       "      <td>1</td>\n",
       "      <td>3</td>\n",
       "      <td>Not Selected</td>\n",
       "      <td>0</td>\n",
       "      <td>Room_Type 1</td>\n",
       "      <td>5</td>\n",
       "      <td>Online</td>\n",
       "      <td>0</td>\n",
       "      <td>0</td>\n",
       "      <td>0</td>\n",
       "      <td>106.68</td>\n",
       "      <td>1</td>\n",
       "      <td>11/6/2018</td>\n",
       "      <td>Not_Canceled</td>\n",
       "    </tr>\n",
       "    <tr>\n",
       "      <th>2</th>\n",
       "      <td>INN00003</td>\n",
       "      <td>2</td>\n",
       "      <td>1</td>\n",
       "      <td>1</td>\n",
       "      <td>3</td>\n",
       "      <td>Meal Plan 1</td>\n",
       "      <td>0</td>\n",
       "      <td>Room_Type 1</td>\n",
       "      <td>1</td>\n",
       "      <td>Online</td>\n",
       "      <td>0</td>\n",
       "      <td>0</td>\n",
       "      <td>0</td>\n",
       "      <td>50.00</td>\n",
       "      <td>0</td>\n",
       "      <td>2/28/2018</td>\n",
       "      <td>Canceled</td>\n",
       "    </tr>\n",
       "    <tr>\n",
       "      <th>3</th>\n",
       "      <td>INN00004</td>\n",
       "      <td>1</td>\n",
       "      <td>0</td>\n",
       "      <td>0</td>\n",
       "      <td>2</td>\n",
       "      <td>Meal Plan 1</td>\n",
       "      <td>0</td>\n",
       "      <td>Room_Type 1</td>\n",
       "      <td>211</td>\n",
       "      <td>Online</td>\n",
       "      <td>0</td>\n",
       "      <td>0</td>\n",
       "      <td>0</td>\n",
       "      <td>100.00</td>\n",
       "      <td>1</td>\n",
       "      <td>5/20/2017</td>\n",
       "      <td>Canceled</td>\n",
       "    </tr>\n",
       "    <tr>\n",
       "      <th>4</th>\n",
       "      <td>INN00005</td>\n",
       "      <td>1</td>\n",
       "      <td>0</td>\n",
       "      <td>1</td>\n",
       "      <td>2</td>\n",
       "      <td>Not Selected</td>\n",
       "      <td>0</td>\n",
       "      <td>Room_Type 1</td>\n",
       "      <td>48</td>\n",
       "      <td>Online</td>\n",
       "      <td>0</td>\n",
       "      <td>0</td>\n",
       "      <td>0</td>\n",
       "      <td>77.00</td>\n",
       "      <td>0</td>\n",
       "      <td>4/11/2018</td>\n",
       "      <td>Canceled</td>\n",
       "    </tr>\n",
       "  </tbody>\n",
       "</table>\n",
       "</div>"
      ],
      "text/plain": [
       "  Booking_ID  number of adults  number of children  number of weekend nights  \\\n",
       "0   INN00001                 1                   1                         2   \n",
       "1   INN00002                 1                   0                         1   \n",
       "2   INN00003                 2                   1                         1   \n",
       "3   INN00004                 1                   0                         0   \n",
       "4   INN00005                 1                   0                         1   \n",
       "\n",
       "   number of week nights  type of meal  car parking space    room type  \\\n",
       "0                      5   Meal Plan 1                  0  Room_Type 1   \n",
       "1                      3  Not Selected                  0  Room_Type 1   \n",
       "2                      3   Meal Plan 1                  0  Room_Type 1   \n",
       "3                      2   Meal Plan 1                  0  Room_Type 1   \n",
       "4                      2  Not Selected                  0  Room_Type 1   \n",
       "\n",
       "   lead time market segment type  repeated  P-C  P-not-C  average price  \\\n",
       "0        224             Offline         0    0        0          88.00   \n",
       "1          5              Online         0    0        0         106.68   \n",
       "2          1              Online         0    0        0          50.00   \n",
       "3        211              Online         0    0        0         100.00   \n",
       "4         48              Online         0    0        0          77.00   \n",
       "\n",
       "   special requests date of reservation booking status  \n",
       "0                 0           10/2/2015   Not_Canceled  \n",
       "1                 1           11/6/2018   Not_Canceled  \n",
       "2                 0           2/28/2018       Canceled  \n",
       "3                 1           5/20/2017       Canceled  \n",
       "4                 0           4/11/2018       Canceled  "
      ]
     },
     "execution_count": 59,
     "metadata": {},
     "output_type": "execute_result"
    }
   ],
   "source": [
    "df.head()"
   ]
  },
  {
   "cell_type": "code",
   "execution_count": 60,
   "id": "cc341ba8-feca-49a2-841a-cd5c4c380493",
   "metadata": {},
   "outputs": [
    {
     "data": {
      "text/plain": [
       "0"
      ]
     },
     "execution_count": 60,
     "metadata": {},
     "output_type": "execute_result"
    }
   ],
   "source": [
    "# check duplicates\n",
    "df.duplicated().sum()"
   ]
  },
  {
   "cell_type": "code",
   "execution_count": 61,
   "id": "5c101ccb-624d-4b54-8d5d-b7d0bb5f06ee",
   "metadata": {},
   "outputs": [],
   "source": [
    "# drop duplicates\n",
    "df.drop_duplicates(inplace=True)"
   ]
  },
  {
   "cell_type": "code",
   "execution_count": 62,
   "id": "fc7f45dc-f2f6-4302-947c-29d7e7ddcc21",
   "metadata": {},
   "outputs": [
    {
     "data": {
      "text/plain": [
       "Booking_ID                  0\n",
       "number of adults            0\n",
       "number of children          0\n",
       "number of weekend nights    0\n",
       "number of week nights       0\n",
       "type of meal                0\n",
       "car parking space           0\n",
       "room type                   0\n",
       "lead time                   0\n",
       "market segment type         0\n",
       "repeated                    0\n",
       "P-C                         0\n",
       "P-not-C                     0\n",
       "average price               0\n",
       "special requests            0\n",
       "date of reservation         0\n",
       "booking status              0\n",
       "dtype: int64"
      ]
     },
     "execution_count": 62,
     "metadata": {},
     "output_type": "execute_result"
    }
   ],
   "source": [
    "# check Nan values\n",
    "df.isna().sum()"
   ]
  },
  {
   "cell_type": "code",
   "execution_count": 63,
   "id": "a73dc1e1-fc1a-4aae-8281-383d61529b33",
   "metadata": {},
   "outputs": [],
   "source": [
    "# drop Nan values\n",
    "df = df.dropna()"
   ]
  },
  {
   "cell_type": "code",
   "execution_count": 64,
   "id": "23bdfa37-1691-4e1e-9f82-227c55b93883",
   "metadata": {},
   "outputs": [
    {
     "data": {
      "text/plain": [
       "Booking_ID                  0\n",
       "number of adults            0\n",
       "number of children          0\n",
       "number of weekend nights    0\n",
       "number of week nights       0\n",
       "type of meal                0\n",
       "car parking space           0\n",
       "room type                   0\n",
       "lead time                   0\n",
       "market segment type         0\n",
       "repeated                    0\n",
       "P-C                         0\n",
       "P-not-C                     0\n",
       "average price               0\n",
       "special requests            0\n",
       "date of reservation         0\n",
       "booking status              0\n",
       "dtype: int64"
      ]
     },
     "execution_count": 64,
     "metadata": {},
     "output_type": "execute_result"
    }
   ],
   "source": [
    "# I still have nan values\n",
    "df.isna().sum()"
   ]
  },
  {
   "cell_type": "code",
   "execution_count": 65,
   "id": "86cf61ad-57d3-4447-b443-3f7d785ca599",
   "metadata": {},
   "outputs": [
    {
     "name": "stdout",
     "output_type": "stream",
     "text": [
      "['10/2/2015' '11/6/2018' '2/28/2018' '5/20/2017' '4/11/2018' '9/13/2016'\n",
      " '10/15/2017' '12/26/2018' '7/6/2018' '10/18/2018' '9/11/2018' '4/30/2018'\n",
      " '11/26/2018' '11/20/2018' '10/20/2017' '6/15/2018' '10/5/2017'\n",
      " '8/10/2017' '10/30/2017' '10/4/2017' '11/25/2018' '3/20/2018'\n",
      " '10/13/2018' '5/22/2018' '4/28/2018' '9/21/2017' '5/19/2018' '11/6/2017'\n",
      " '9/17/2017' '9/19/2017' '11/13/2018' '12/7/2018' '1/9/2018' '10/7/2018'\n",
      " '4/27/2018' '6/19/2018' '10/17/2017' '11/19/2018' '7/30/2018' '11/1/2018'\n",
      " '6/21/2018' '4/10/2018' '6/27/2018' '11/18/2017' '12/29/2017'\n",
      " '11/20/2017' '4/6/2018' '12/29/2018' '5/30/2018' '4/22/2018' '5/16/2018'\n",
      " '11/11/2017' '6/13/2018' '7/28/2018' '4/20/2018' '9/2/2018' '5/3/2018'\n",
      " '6/24/2018' '9/10/2017' '12/18/2018' '10/5/2018' '6/3/2018' '4/15/2018'\n",
      " '4/25/2018' '8/25/2018' '11/14/2018' '8/29/2018' '10/25/2017' '3/9/2018'\n",
      " '12/31/2018' '6/28/2018' '3/29/2018' '4/1/2018' '10/11/2018' '12/25/2018'\n",
      " '3/14/2018' '3/4/2018' '10/17/2018' '9/4/2018' '12/10/2018' '8/9/2018'\n",
      " '5/5/2018' '3/18/2018' '4/9/2018' '8/30/2018' '8/4/2018' '8/18/2018'\n",
      " '4/13/2018' '11/17/2018' '12/22/2018' '10/23/2018' '5/13/2018'\n",
      " '12/13/2018' '10/31/2017' '10/8/2017' '2/16/2018' '11/2/2017' '6/30/2018'\n",
      " '9/5/2017' '9/30/2018' '6/16/2018' '6/26/2018' '8/13/2018' '11/12/2018'\n",
      " '4/29/2018' '11/14/2017' '9/1/2018' '9/16/2018' '3/10/2018' '4/24/2018'\n",
      " '3/30/2018' '11/3/2018' '10/14/2018' '6/5/2018' '7/13/2018' '10/20/2018'\n",
      " '12/28/2018' '10/19/2017' '10/9/2017' '7/25/2018' '5/9/2018' '6/17/2018'\n",
      " '11/18/2018' '10/30/2018' '3/28/2018' '6/1/2018' '5/4/2018' '4/8/2018'\n",
      " '6/8/2018' '4/7/2018' '5/2/2018' '9/29/2018' '4/4/2018' '7/17/2017'\n",
      " '5/24/2018' '2/17/2018' '4/14/2018' '4/17/2018' '8/1/2018' '7/12/2018'\n",
      " '1/2/2018' '11/16/2018' '9/19/2018' '9/13/2017' '9/15/2018' '12/16/2018'\n",
      " '11/5/2018' '3/22/2018' '8/17/2018' '5/20/2018' '10/24/2017' '7/21/2018'\n",
      " '9/9/2017' '3/31/2018' '4/2/2018' '8/22/2018' '8/8/2018' '8/15/2018'\n",
      " '8/19/2018' '10/10/2018' '10/6/2018' '3/25/2018' '8/3/2018' '9/11/2017'\n",
      " '3/23/2018' '9/26/2018' '8/24/2018' '7/16/2017' '9/8/2018' '8/21/2018'\n",
      " '12/3/2018' '2/27/2018' '9/22/2017' '7/18/2018' '12/5/2018' '8/22/2017'\n",
      " '3/1/2018' '9/5/2018' '6/10/2018' '5/27/2018' '2/5/2018' '5/7/2018'\n",
      " '5/12/2018' '10/28/2018' '10/18/2017' '8/14/2017' '12/2/2018' '9/3/2017'\n",
      " '9/14/2018' '2/8/2018' '10/2/2017' '3/24/2018' '5/31/2018' '11/9/2017'\n",
      " '7/26/2018' '5/21/2018' '9/7/2018' '11/15/2017' '9/16/2017' '10/16/2017'\n",
      " '7/23/2018' '6/11/2018' '1/16/2018' '9/14/2017' '10/15/2018' '9/2/2017'\n",
      " '8/12/2017' '8/23/2017' '3/11/2018' '8/28/2018' '12/9/2018' '6/12/2018'\n",
      " '3/5/2018' '8/18/2017' '4/21/2018' '6/18/2018' '8/10/2018' '3/17/2018'\n",
      " '8/8/2017' '5/1/2018' '4/3/2018' '9/4/2017' '12/27/2017' '2/20/2018'\n",
      " '9/30/2017' '12/26/2017' '7/9/2018' '6/6/2018' '7/17/2018' '2/22/2018'\n",
      " '7/8/2018' '11/11/2018' '10/6/2017' '8/11/2017' '7/25/2017' '12/15/2017'\n",
      " '10/23/2017' '10/10/2017' '10/2/2018' '9/8/2017' '12/21/2018'\n",
      " '11/10/2018' '2/24/2018' '7/1/2018' '7/5/2018' '7/11/2018' '5/14/2018'\n",
      " '10/22/2018' '9/18/2018' '9/3/2018' '9/22/2018' '11/19/2017' '7/10/2018'\n",
      " '9/25/2017' '10/4/2018' '10/27/2018' '3/3/2018' '9/13/2018' '9/15/2017'\n",
      " '2/19/2018' '9/28/2018' '8/12/2018' '10/1/2018' '9/9/2018' '1/29/2018'\n",
      " '8/6/2018' '11/4/2018' '5/29/2018' '1/20/2018' '12/7/2017' '4/5/2018'\n",
      " '7/2/2018' '9/27/2018' '10/21/2017' '9/6/2018' '3/16/2018' '10/24/2018'\n",
      " '5/11/2018' '10/13/2017' '10/16/2018' '10/31/2018' '9/18/2017'\n",
      " '6/23/2018' '8/26/2017' '7/4/2018' '12/8/2018' '12/9/2017' '10/19/2018'\n",
      " '10/22/2017' '3/8/2018' '2/11/2018' '11/23/2018' '6/7/2018' '4/23/2018'\n",
      " '10/21/2018' '12/5/2017' '10/14/2017' '12/24/2017' '6/14/2018' '2/4/2018'\n",
      " '12/17/2017' '8/31/2018' '10/7/2017' '11/29/2018' '11/2/2018' '3/19/2018'\n",
      " '2/3/2018' '4/26/2018' '12/30/2017' '10/3/2018' '6/25/2018' '7/1/2017'\n",
      " '9/6/2017' '12/30/2018' '1/6/2018' '3/13/2018' '6/29/2018' '7/27/2017'\n",
      " '6/20/2018' '2/26/2018' '10/1/2017' '7/14/2018' '7/27/2018' '9/7/2017'\n",
      " '8/25/2017' '2/6/2018' '1/8/2018' '10/26/2018' '11/23/2017' '3/7/2018'\n",
      " '9/20/2018' '1/28/2018' '2/25/2018' '3/21/2018' '12/14/2018' '3/15/2018'\n",
      " '12/23/2018' '7/11/2017' '10/12/2018' '8/9/2017' '2/14/2018' '2/13/2018'\n",
      " '2/15/2018' '4/16/2018' '3/2/2018' '8/14/2018' '12/1/2017' '9/21/2018'\n",
      " '1/3/2018' '5/6/2018' '6/2/2018' '4/12/2018' '12/27/2018' '6/4/2018'\n",
      " '5/25/2018' '12/24/2018' '12/6/2017' '7/19/2018' '11/10/2017'\n",
      " '12/11/2017' '5/26/2018' '1/4/2018' '9/12/2018' '11/3/2017' '2/21/2018'\n",
      " '8/20/2017' '8/19/2017' '10/28/2017' '5/8/2018' '2/12/2018' '2/7/2018'\n",
      " '7/18/2017' '9/20/2017' '9/24/2017' '1/15/2018' '5/10/2018' '8/27/2017'\n",
      " '1/14/2018' '9/23/2018' '8/5/2017' '10/3/2017' '8/20/2018' '10/29/2017'\n",
      " '10/29/2018' '9/10/2018' '8/30/2017' '6/22/2018' '12/4/2017' '8/3/2017'\n",
      " '11/7/2018' '7/3/2018' '12/6/2018' '2/1/2018' '8/2/2018' '12/12/2018'\n",
      " '9/1/2017' '12/10/2017' '1/27/2018' '4/19/2018' '7/16/2018' '7/5/2017'\n",
      " '8/16/2018' '1/25/2018' '7/15/2018' '8/15/2017' '10/12/2017' '9/29/2017'\n",
      " '1/24/2018' '3/27/2018' '8/17/2017' '8/21/2017' '12/31/2017' '11/9/2018'\n",
      " '7/6/2017' '11/8/2018' '7/22/2018' '5/18/2018' '8/27/2018' '11/21/2018'\n",
      " '10/9/2018' '3/6/2018' '9/17/2018' '1/19/2018' '11/15/2018' '12/3/2017'\n",
      " '9/25/2018' '7/7/2018' '4/18/2018' '5/17/2018' '11/27/2018' '10/25/2018'\n",
      " '10/8/2018' '3/26/2018' '11/5/2017' '1/30/2018' '11/8/2017' '6/9/2018'\n",
      " '7/29/2018' '11/28/2017' '12/4/2018' '8/28/2017' '12/18/2017' '9/12/2017'\n",
      " '7/7/2017' '1/7/2018' '11/22/2018' '9/28/2017' '8/29/2017' '8/26/2018'\n",
      " '8/6/2017' '3/12/2018' '2/9/2018' '7/24/2018' '12/22/2017' '11/30/2017'\n",
      " '8/7/2018' '5/15/2018' '12/20/2018' '8/1/2017' '11/1/2017' '12/19/2017'\n",
      " '12/20/2017' '5/23/2018' '11/4/2017' '7/23/2017' '11/13/2017' '7/20/2018'\n",
      " '7/31/2018' '12/11/2018' '12/17/2018' '1/31/2018' '2/23/2018' '12/1/2018'\n",
      " '1/10/2018' '8/24/2017' '2/10/2018' '11/24/2018' '5/28/2018' '9/24/2018'\n",
      " '1/22/2018' '11/27/2017' '11/16/2017' '1/5/2018' '1/13/2018' '8/5/2018'\n",
      " '11/28/2018' '12/23/2017' '1/26/2018' '11/25/2017' '12/16/2017'\n",
      " '1/21/2018' '12/19/2018' '12/15/2018' '11/12/2017' '8/23/2018'\n",
      " '2018-2-29' '11/17/2017' '11/30/2018' '8/4/2017' '10/11/2017' '8/11/2018'\n",
      " '8/7/2017' '1/18/2018' '11/7/2017' '1/12/2018' '9/23/2017' '7/29/2017'\n",
      " '8/31/2017' '7/13/2017' '11/29/2017' '7/15/2017' '12/28/2017'\n",
      " '11/26/2017' '2/2/2018' '8/13/2017' '10/26/2017' '7/9/2017' '2/18/2018'\n",
      " '11/21/2017' '11/24/2017' '10/27/2017' '1/23/2018' '1/1/2018'\n",
      " '12/25/2017' '12/2/2017' '11/22/2017' '12/12/2017' '9/27/2017'\n",
      " '1/17/2018' '12/13/2017' '12/8/2017' '7/31/2017' '8/16/2017' '7/10/2017'\n",
      " '12/14/2017' '9/26/2017' '7/2/2017' '7/4/2017' '7/26/2017' '1/11/2018'\n",
      " '7/30/2017' '12/21/2017' '7/8/2017' '7/20/2017' '7/22/2017' '7/28/2017'\n",
      " '7/24/2017' '7/12/2017' '7/3/2017' '7/19/2017' '7/14/2017' '8/2/2017'\n",
      " '7/21/2017']\n"
     ]
    }
   ],
   "source": [
    "# check nan values\n",
    "# we have string nan values\n",
    "# that's why they were not deleted\n",
    "print(df['date of reservation'].unique())"
   ]
  },
  {
   "cell_type": "code",
   "execution_count": 66,
   "id": "18cda731-ef5d-4ac7-8fa5-cf8fc3e77002",
   "metadata": {},
   "outputs": [],
   "source": [
    "# replace 'nan' string with actual NaN values\n",
    "df['date of reservation'] = df['date of reservation'].replace('nan', np.nan)"
   ]
  },
  {
   "cell_type": "code",
   "execution_count": 67,
   "id": "080b1ce2-ad18-4c1d-b8fb-6e35a6b15c4c",
   "metadata": {},
   "outputs": [],
   "source": [
    "# Drop NaN values\n",
    "df = df.dropna()"
   ]
  },
  {
   "cell_type": "code",
   "execution_count": 68,
   "id": "3a2ef32c-dd0c-4a8e-8e22-5ebd8781734c",
   "metadata": {},
   "outputs": [
    {
     "data": {
      "text/plain": [
       "Booking_ID                  0\n",
       "number of adults            0\n",
       "number of children          0\n",
       "number of weekend nights    0\n",
       "number of week nights       0\n",
       "type of meal                0\n",
       "car parking space           0\n",
       "room type                   0\n",
       "lead time                   0\n",
       "market segment type         0\n",
       "repeated                    0\n",
       "P-C                         0\n",
       "P-not-C                     0\n",
       "average price               0\n",
       "special requests            0\n",
       "date of reservation         0\n",
       "booking status              0\n",
       "dtype: int64"
      ]
     },
     "execution_count": 68,
     "metadata": {},
     "output_type": "execute_result"
    }
   ],
   "source": [
    "# check nan values\n",
    "df.isna().sum()"
   ]
  },
  {
   "cell_type": "code",
   "execution_count": 69,
   "id": "ca0bf2fd-27f3-458a-8904-6865f9ab0e0c",
   "metadata": {},
   "outputs": [],
   "source": [
    "# drop ID column\n",
    "df = df.drop(\"Booking_ID\", axis=1)"
   ]
  },
  {
   "cell_type": "code",
   "execution_count": 70,
   "id": "d85b976e-a12f-4b60-8e62-1f0fb6d918e9",
   "metadata": {},
   "outputs": [
    {
     "name": "stdout",
     "output_type": "stream",
     "text": [
      "['Meal Plan 1' 'Not Selected' 'Meal Plan 2' 'Meal Plan 3']\n"
     ]
    }
   ],
   "source": [
    "# check unique values \n",
    "# to understand content of columns\n",
    "unique_values = df['type of meal'].unique()\n",
    "print(unique_values)"
   ]
  },
  {
   "cell_type": "code",
   "execution_count": 71,
   "id": "68d7ae9f-2ab2-4c5e-9d29-b667e55691e0",
   "metadata": {},
   "outputs": [
    {
     "name": "stdout",
     "output_type": "stream",
     "text": [
      "['Room_Type 1' 'Room_Type 4' 'Room_Type 2' 'Room_Type 6' 'Room_Type 5'\n",
      " 'Room_Type 7' 'Room_Type 3']\n"
     ]
    }
   ],
   "source": [
    "# check unique values \n",
    "# to understand content of columns\n",
    "unique_values = df['room type'].unique()\n",
    "print(unique_values)"
   ]
  },
  {
   "cell_type": "code",
   "execution_count": 72,
   "id": "38801238-2d31-4e4d-a184-4264d22e7c21",
   "metadata": {},
   "outputs": [
    {
     "name": "stdout",
     "output_type": "stream",
     "text": [
      "['Not_Canceled' 'Canceled']\n"
     ]
    }
   ],
   "source": [
    "# check unique values \n",
    "# to understand content of columns\n",
    "unique_values = df['booking status'].unique()\n",
    "print(unique_values)"
   ]
  },
  {
   "cell_type": "code",
   "execution_count": 73,
   "id": "9c648694-e37b-4819-842a-753e7e034576",
   "metadata": {},
   "outputs": [
    {
     "name": "stdout",
     "output_type": "stream",
     "text": [
      "['Offline' 'Online' 'Corporate' 'Aviation' 'Complementary']\n"
     ]
    }
   ],
   "source": [
    "# check unique values \n",
    "# to understand content of columns\n",
    "unique_values = df['market segment type'].unique()\n",
    "print(unique_values)"
   ]
  },
  {
   "cell_type": "code",
   "execution_count": 74,
   "id": "604aa295-a023-49ab-a9b4-a737a9cdf35e",
   "metadata": {},
   "outputs": [
    {
     "name": "stdout",
     "output_type": "stream",
     "text": [
      "Encoded values for type of meal: [0 3 1 2]\n",
      "Encoded values for room type: [0 3 1 5 4 6 2]\n",
      "Encoded values for booking status: [1 0]\n",
      "Encoded values for market segment type: [3 4 2 0 1]\n"
     ]
    }
   ],
   "source": [
    "# convert columns into numeric format\n",
    "# this just converts the value of column to 0 or 1\n",
    "from sklearn.preprocessing import LabelEncoder\n",
    "variables = ['type of meal', 'room type', 'booking status', 'market segment type']\n",
    "encoder = LabelEncoder()\n",
    "df[variables] = df[variables].apply(encoder.fit_transform)\n",
    "\n",
    "# Print the unique encoded values for each column\n",
    "for var in variables:\n",
    "    unique_encoded_values = df[var].unique()\n",
    "    print(f\"Encoded values for {var}: {unique_encoded_values}\")"
   ]
  },
  {
   "cell_type": "code",
   "execution_count": 75,
   "id": "dd72848a-337e-41d0-a367-75a815ed81a1",
   "metadata": {},
   "outputs": [
    {
     "data": {
      "text/html": [
       "<div>\n",
       "<style scoped>\n",
       "    .dataframe tbody tr th:only-of-type {\n",
       "        vertical-align: middle;\n",
       "    }\n",
       "\n",
       "    .dataframe tbody tr th {\n",
       "        vertical-align: top;\n",
       "    }\n",
       "\n",
       "    .dataframe thead th {\n",
       "        text-align: right;\n",
       "    }\n",
       "</style>\n",
       "<table border=\"1\" class=\"dataframe\">\n",
       "  <thead>\n",
       "    <tr style=\"text-align: right;\">\n",
       "      <th></th>\n",
       "      <th>number of adults</th>\n",
       "      <th>number of children</th>\n",
       "      <th>number of weekend nights</th>\n",
       "      <th>number of week nights</th>\n",
       "      <th>type of meal</th>\n",
       "      <th>car parking space</th>\n",
       "      <th>room type</th>\n",
       "      <th>lead time</th>\n",
       "      <th>market segment type</th>\n",
       "      <th>repeated</th>\n",
       "      <th>P-C</th>\n",
       "      <th>P-not-C</th>\n",
       "      <th>average price</th>\n",
       "      <th>special requests</th>\n",
       "      <th>date of reservation</th>\n",
       "      <th>booking status</th>\n",
       "    </tr>\n",
       "  </thead>\n",
       "  <tbody>\n",
       "    <tr>\n",
       "      <th>0</th>\n",
       "      <td>1</td>\n",
       "      <td>1</td>\n",
       "      <td>2</td>\n",
       "      <td>5</td>\n",
       "      <td>0</td>\n",
       "      <td>0</td>\n",
       "      <td>0</td>\n",
       "      <td>224</td>\n",
       "      <td>3</td>\n",
       "      <td>0</td>\n",
       "      <td>0</td>\n",
       "      <td>0</td>\n",
       "      <td>88.00</td>\n",
       "      <td>0</td>\n",
       "      <td>10/2/2015</td>\n",
       "      <td>1</td>\n",
       "    </tr>\n",
       "    <tr>\n",
       "      <th>1</th>\n",
       "      <td>1</td>\n",
       "      <td>0</td>\n",
       "      <td>1</td>\n",
       "      <td>3</td>\n",
       "      <td>3</td>\n",
       "      <td>0</td>\n",
       "      <td>0</td>\n",
       "      <td>5</td>\n",
       "      <td>4</td>\n",
       "      <td>0</td>\n",
       "      <td>0</td>\n",
       "      <td>0</td>\n",
       "      <td>106.68</td>\n",
       "      <td>1</td>\n",
       "      <td>11/6/2018</td>\n",
       "      <td>1</td>\n",
       "    </tr>\n",
       "    <tr>\n",
       "      <th>2</th>\n",
       "      <td>2</td>\n",
       "      <td>1</td>\n",
       "      <td>1</td>\n",
       "      <td>3</td>\n",
       "      <td>0</td>\n",
       "      <td>0</td>\n",
       "      <td>0</td>\n",
       "      <td>1</td>\n",
       "      <td>4</td>\n",
       "      <td>0</td>\n",
       "      <td>0</td>\n",
       "      <td>0</td>\n",
       "      <td>50.00</td>\n",
       "      <td>0</td>\n",
       "      <td>2/28/2018</td>\n",
       "      <td>0</td>\n",
       "    </tr>\n",
       "    <tr>\n",
       "      <th>3</th>\n",
       "      <td>1</td>\n",
       "      <td>0</td>\n",
       "      <td>0</td>\n",
       "      <td>2</td>\n",
       "      <td>0</td>\n",
       "      <td>0</td>\n",
       "      <td>0</td>\n",
       "      <td>211</td>\n",
       "      <td>4</td>\n",
       "      <td>0</td>\n",
       "      <td>0</td>\n",
       "      <td>0</td>\n",
       "      <td>100.00</td>\n",
       "      <td>1</td>\n",
       "      <td>5/20/2017</td>\n",
       "      <td>0</td>\n",
       "    </tr>\n",
       "    <tr>\n",
       "      <th>4</th>\n",
       "      <td>1</td>\n",
       "      <td>0</td>\n",
       "      <td>1</td>\n",
       "      <td>2</td>\n",
       "      <td>3</td>\n",
       "      <td>0</td>\n",
       "      <td>0</td>\n",
       "      <td>48</td>\n",
       "      <td>4</td>\n",
       "      <td>0</td>\n",
       "      <td>0</td>\n",
       "      <td>0</td>\n",
       "      <td>77.00</td>\n",
       "      <td>0</td>\n",
       "      <td>4/11/2018</td>\n",
       "      <td>0</td>\n",
       "    </tr>\n",
       "  </tbody>\n",
       "</table>\n",
       "</div>"
      ],
      "text/plain": [
       "   number of adults  number of children  number of weekend nights  \\\n",
       "0                 1                   1                         2   \n",
       "1                 1                   0                         1   \n",
       "2                 2                   1                         1   \n",
       "3                 1                   0                         0   \n",
       "4                 1                   0                         1   \n",
       "\n",
       "   number of week nights  type of meal  car parking space  room type  \\\n",
       "0                      5             0                  0          0   \n",
       "1                      3             3                  0          0   \n",
       "2                      3             0                  0          0   \n",
       "3                      2             0                  0          0   \n",
       "4                      2             3                  0          0   \n",
       "\n",
       "   lead time  market segment type  repeated  P-C  P-not-C  average price  \\\n",
       "0        224                    3         0    0        0          88.00   \n",
       "1          5                    4         0    0        0         106.68   \n",
       "2          1                    4         0    0        0          50.00   \n",
       "3        211                    4         0    0        0         100.00   \n",
       "4         48                    4         0    0        0          77.00   \n",
       "\n",
       "   special requests date of reservation  booking status  \n",
       "0                 0           10/2/2015               1  \n",
       "1                 1           11/6/2018               1  \n",
       "2                 0           2/28/2018               0  \n",
       "3                 1           5/20/2017               0  \n",
       "4                 0           4/11/2018               0  "
      ]
     },
     "execution_count": 75,
     "metadata": {},
     "output_type": "execute_result"
    }
   ],
   "source": [
    "df.head()"
   ]
  },
  {
   "cell_type": "code",
   "execution_count": 76,
   "id": "c582e201-5849-4d48-95d3-8c358091ccd3",
   "metadata": {},
   "outputs": [
    {
     "name": "stdout",
     "output_type": "stream",
     "text": [
      "The data type of 'column_name' is: object\n"
     ]
    }
   ],
   "source": [
    "# \"date of reservation\" did not convert well\n",
    "# by using LabelEncoder\n",
    "# check format\n",
    "column_type = df['date of reservation'].dtype\n",
    "print(f\"The data type of 'column_name' is: {column_type}\")"
   ]
  },
  {
   "cell_type": "code",
   "execution_count": 77,
   "id": "c9d67a4a-0b6c-47e0-983a-c806b708c687",
   "metadata": {},
   "outputs": [
    {
     "name": "stdout",
     "output_type": "stream",
     "text": [
      "The data type of 'column_name' is: <class 'str'>\n"
     ]
    }
   ],
   "source": [
    "# Method 2: Using type() function\n",
    "# to check format\n",
    "column_type = type(df['date of reservation'][0])\n",
    "print(f\"The data type of 'column_name' is: {column_type}\")"
   ]
  },
  {
   "cell_type": "code",
   "execution_count": 78,
   "id": "e2499195-fa0a-4a80-b965-b5e30b3b76a0",
   "metadata": {},
   "outputs": [],
   "source": [
    "# make string to datetime format\n",
    "df['date of reservation'] = pd.to_datetime(df['date of reservation'], errors='coerce')\n",
    "\n",
    "# make datetime to 'YYYYMMDD'\n",
    "df['date of reservation'] = df['date of reservation'].dt.strftime('%Y%m%d')\n",
    "\n",
    "# make it as an integer\n",
    "df['date of reservation'] = pd.to_numeric(df['date of reservation'], errors='coerce')"
   ]
  },
  {
   "cell_type": "code",
   "execution_count": 79,
   "id": "dfef8868-8e07-4c21-bbec-74813f3b0f5b",
   "metadata": {},
   "outputs": [
    {
     "name": "stdout",
     "output_type": "stream",
     "text": [
      "number of adults              int64\n",
      "number of children            int64\n",
      "number of weekend nights      int64\n",
      "number of week nights         int64\n",
      "type of meal                  int64\n",
      "car parking space             int64\n",
      "room type                     int64\n",
      "lead time                     int64\n",
      "market segment type           int64\n",
      "repeated                      int64\n",
      "P-C                           int64\n",
      "P-not-C                       int64\n",
      "average price               float64\n",
      "special requests              int64\n",
      "date of reservation         float64\n",
      "booking status                int64\n",
      "dtype: object\n"
     ]
    }
   ],
   "source": [
    "# check types of columns\n",
    "column_types = df.dtypes\n",
    "\n",
    "# Print the data types of each column\n",
    "print(column_types)"
   ]
  },
  {
   "cell_type": "markdown",
   "id": "4973fa3d-0c4f-4d71-9b4d-3fe3d5890cfe",
   "metadata": {},
   "source": [
    "#  Convert data to X/y and scale the values"
   ]
  },
  {
   "cell_type": "code",
   "execution_count": 80,
   "id": "c261dc5d-f80d-466f-b3e0-f49173e26e86",
   "metadata": {},
   "outputs": [],
   "source": [
    "# MinMaxScaler is the basic scaler. basically: 0 means lowest value in the column\n",
    "# 1 means highest value in the column. all values will be decimals between 0 and 1\n",
    "from sklearn.preprocessing import MinMaxScaler\n",
    "\n",
    "# scaler = StandardScaler()\n",
    "scaler = MinMaxScaler()\n",
    "# scale all columns except the target\n",
    "scaled_data = scaler.fit_transform(df.drop(columns=[\"booking status\"])) "
   ]
  },
  {
   "cell_type": "code",
   "execution_count": 81,
   "id": "f49896cf-3d42-497d-88de-5b9630f75468",
   "metadata": {},
   "outputs": [],
   "source": [
    "# X/y -split\n",
    "X = df.drop('booking status', axis=1)\n",
    "y = df['booking status']"
   ]
  },
  {
   "cell_type": "code",
   "execution_count": 82,
   "id": "21f03287-4afe-462a-94fc-100219be7f51",
   "metadata": {},
   "outputs": [],
   "source": [
    "# split the data into train/test split\n",
    "X_train, X_test, y_train, y_test = train_test_split(X, y, test_size=0.25, random_state=156)"
   ]
  },
  {
   "cell_type": "markdown",
   "id": "4cfdc183-3873-467f-b813-28a3ec3e4b7b",
   "metadata": {},
   "source": [
    "# Create the KNN classifier and fit the data"
   ]
  },
  {
   "cell_type": "code",
   "execution_count": 83,
   "id": "d37bf6a3-fa9d-41d8-8102-81b101613fd3",
   "metadata": {},
   "outputs": [
    {
     "ename": "ValueError",
     "evalue": "Input contains NaN, infinity or a value too large for dtype('float64').",
     "output_type": "error",
     "traceback": [
      "\u001b[0;31m---------------------------------------------------------------------------\u001b[0m",
      "\u001b[0;31mValueError\u001b[0m                                Traceback (most recent call last)",
      "\u001b[0;32m/var/folders/8q/5qtfh2m96kd6nymxsdyfmr1w0000gn/T/ipykernel_22257/1511694375.py\u001b[0m in \u001b[0;36m<module>\u001b[0;34m\u001b[0m\n\u001b[1;32m     18\u001b[0m      \u001b[0;31m# try with current k-value, train the model and make a test prediction\u001b[0m\u001b[0;34m\u001b[0m\u001b[0;34m\u001b[0m\u001b[0m\n\u001b[1;32m     19\u001b[0m     \u001b[0mknn\u001b[0m \u001b[0;34m=\u001b[0m \u001b[0mmake_pipeline\u001b[0m\u001b[0;34m(\u001b[0m\u001b[0mStandardScaler\u001b[0m\u001b[0;34m(\u001b[0m\u001b[0;34m)\u001b[0m\u001b[0;34m,\u001b[0m \u001b[0mKNeighborsClassifier\u001b[0m\u001b[0;34m(\u001b[0m\u001b[0mn_neighbors\u001b[0m\u001b[0;34m=\u001b[0m\u001b[0mi\u001b[0m\u001b[0;34m,\u001b[0m \u001b[0mmetric\u001b[0m\u001b[0;34m=\u001b[0m\u001b[0mmetric_selection\u001b[0m\u001b[0;34m)\u001b[0m\u001b[0;34m)\u001b[0m\u001b[0;34m\u001b[0m\u001b[0;34m\u001b[0m\u001b[0m\n\u001b[0;32m---> 20\u001b[0;31m     \u001b[0mknn\u001b[0m\u001b[0;34m.\u001b[0m\u001b[0mfit\u001b[0m\u001b[0;34m(\u001b[0m\u001b[0mX_train\u001b[0m\u001b[0;34m,\u001b[0m \u001b[0my_train\u001b[0m\u001b[0;34m)\u001b[0m\u001b[0;34m\u001b[0m\u001b[0;34m\u001b[0m\u001b[0m\n\u001b[0m\u001b[1;32m     21\u001b[0m     \u001b[0mpred_i\u001b[0m \u001b[0;34m=\u001b[0m \u001b[0mknn\u001b[0m\u001b[0;34m.\u001b[0m\u001b[0mpredict\u001b[0m\u001b[0;34m(\u001b[0m\u001b[0mX_test\u001b[0m\u001b[0;34m)\u001b[0m\u001b[0;34m\u001b[0m\u001b[0;34m\u001b[0m\u001b[0m\n\u001b[1;32m     22\u001b[0m \u001b[0;34m\u001b[0m\u001b[0m\n",
      "\u001b[0;32m~/opt/anaconda3/lib/python3.9/site-packages/sklearn/pipeline.py\u001b[0m in \u001b[0;36mfit\u001b[0;34m(self, X, y, **fit_params)\u001b[0m\n\u001b[1;32m    392\u001b[0m             \u001b[0;32mif\u001b[0m \u001b[0mself\u001b[0m\u001b[0;34m.\u001b[0m\u001b[0m_final_estimator\u001b[0m \u001b[0;34m!=\u001b[0m \u001b[0;34m\"passthrough\"\u001b[0m\u001b[0;34m:\u001b[0m\u001b[0;34m\u001b[0m\u001b[0;34m\u001b[0m\u001b[0m\n\u001b[1;32m    393\u001b[0m                 \u001b[0mfit_params_last_step\u001b[0m \u001b[0;34m=\u001b[0m \u001b[0mfit_params_steps\u001b[0m\u001b[0;34m[\u001b[0m\u001b[0mself\u001b[0m\u001b[0;34m.\u001b[0m\u001b[0msteps\u001b[0m\u001b[0;34m[\u001b[0m\u001b[0;34m-\u001b[0m\u001b[0;36m1\u001b[0m\u001b[0;34m]\u001b[0m\u001b[0;34m[\u001b[0m\u001b[0;36m0\u001b[0m\u001b[0;34m]\u001b[0m\u001b[0;34m]\u001b[0m\u001b[0;34m\u001b[0m\u001b[0;34m\u001b[0m\u001b[0m\n\u001b[0;32m--> 394\u001b[0;31m                 \u001b[0mself\u001b[0m\u001b[0;34m.\u001b[0m\u001b[0m_final_estimator\u001b[0m\u001b[0;34m.\u001b[0m\u001b[0mfit\u001b[0m\u001b[0;34m(\u001b[0m\u001b[0mXt\u001b[0m\u001b[0;34m,\u001b[0m \u001b[0my\u001b[0m\u001b[0;34m,\u001b[0m \u001b[0;34m**\u001b[0m\u001b[0mfit_params_last_step\u001b[0m\u001b[0;34m)\u001b[0m\u001b[0;34m\u001b[0m\u001b[0;34m\u001b[0m\u001b[0m\n\u001b[0m\u001b[1;32m    395\u001b[0m \u001b[0;34m\u001b[0m\u001b[0m\n\u001b[1;32m    396\u001b[0m         \u001b[0;32mreturn\u001b[0m \u001b[0mself\u001b[0m\u001b[0;34m\u001b[0m\u001b[0;34m\u001b[0m\u001b[0m\n",
      "\u001b[0;32m~/opt/anaconda3/lib/python3.9/site-packages/sklearn/neighbors/_classification.py\u001b[0m in \u001b[0;36mfit\u001b[0;34m(self, X, y)\u001b[0m\n\u001b[1;32m    196\u001b[0m         \u001b[0mself\u001b[0m\u001b[0;34m.\u001b[0m\u001b[0mweights\u001b[0m \u001b[0;34m=\u001b[0m \u001b[0m_check_weights\u001b[0m\u001b[0;34m(\u001b[0m\u001b[0mself\u001b[0m\u001b[0;34m.\u001b[0m\u001b[0mweights\u001b[0m\u001b[0;34m)\u001b[0m\u001b[0;34m\u001b[0m\u001b[0;34m\u001b[0m\u001b[0m\n\u001b[1;32m    197\u001b[0m \u001b[0;34m\u001b[0m\u001b[0m\n\u001b[0;32m--> 198\u001b[0;31m         \u001b[0;32mreturn\u001b[0m \u001b[0mself\u001b[0m\u001b[0;34m.\u001b[0m\u001b[0m_fit\u001b[0m\u001b[0;34m(\u001b[0m\u001b[0mX\u001b[0m\u001b[0;34m,\u001b[0m \u001b[0my\u001b[0m\u001b[0;34m)\u001b[0m\u001b[0;34m\u001b[0m\u001b[0;34m\u001b[0m\u001b[0m\n\u001b[0m\u001b[1;32m    199\u001b[0m \u001b[0;34m\u001b[0m\u001b[0m\n\u001b[1;32m    200\u001b[0m     \u001b[0;32mdef\u001b[0m \u001b[0mpredict\u001b[0m\u001b[0;34m(\u001b[0m\u001b[0mself\u001b[0m\u001b[0;34m,\u001b[0m \u001b[0mX\u001b[0m\u001b[0;34m)\u001b[0m\u001b[0;34m:\u001b[0m\u001b[0;34m\u001b[0m\u001b[0;34m\u001b[0m\u001b[0m\n",
      "\u001b[0;32m~/opt/anaconda3/lib/python3.9/site-packages/sklearn/neighbors/_base.py\u001b[0m in \u001b[0;36m_fit\u001b[0;34m(self, X, y)\u001b[0m\n\u001b[1;32m    398\u001b[0m         \u001b[0;32mif\u001b[0m \u001b[0mself\u001b[0m\u001b[0;34m.\u001b[0m\u001b[0m_get_tags\u001b[0m\u001b[0;34m(\u001b[0m\u001b[0;34m)\u001b[0m\u001b[0;34m[\u001b[0m\u001b[0;34m\"requires_y\"\u001b[0m\u001b[0;34m]\u001b[0m\u001b[0;34m:\u001b[0m\u001b[0;34m\u001b[0m\u001b[0;34m\u001b[0m\u001b[0m\n\u001b[1;32m    399\u001b[0m             \u001b[0;32mif\u001b[0m \u001b[0;32mnot\u001b[0m \u001b[0misinstance\u001b[0m\u001b[0;34m(\u001b[0m\u001b[0mX\u001b[0m\u001b[0;34m,\u001b[0m \u001b[0;34m(\u001b[0m\u001b[0mKDTree\u001b[0m\u001b[0;34m,\u001b[0m \u001b[0mBallTree\u001b[0m\u001b[0;34m,\u001b[0m \u001b[0mNeighborsBase\u001b[0m\u001b[0;34m)\u001b[0m\u001b[0;34m)\u001b[0m\u001b[0;34m:\u001b[0m\u001b[0;34m\u001b[0m\u001b[0;34m\u001b[0m\u001b[0m\n\u001b[0;32m--> 400\u001b[0;31m                 \u001b[0mX\u001b[0m\u001b[0;34m,\u001b[0m \u001b[0my\u001b[0m \u001b[0;34m=\u001b[0m \u001b[0mself\u001b[0m\u001b[0;34m.\u001b[0m\u001b[0m_validate_data\u001b[0m\u001b[0;34m(\u001b[0m\u001b[0mX\u001b[0m\u001b[0;34m,\u001b[0m \u001b[0my\u001b[0m\u001b[0;34m,\u001b[0m \u001b[0maccept_sparse\u001b[0m\u001b[0;34m=\u001b[0m\u001b[0;34m\"csr\"\u001b[0m\u001b[0;34m,\u001b[0m \u001b[0mmulti_output\u001b[0m\u001b[0;34m=\u001b[0m\u001b[0;32mTrue\u001b[0m\u001b[0;34m)\u001b[0m\u001b[0;34m\u001b[0m\u001b[0;34m\u001b[0m\u001b[0m\n\u001b[0m\u001b[1;32m    401\u001b[0m \u001b[0;34m\u001b[0m\u001b[0m\n\u001b[1;32m    402\u001b[0m             \u001b[0;32mif\u001b[0m \u001b[0mis_classifier\u001b[0m\u001b[0;34m(\u001b[0m\u001b[0mself\u001b[0m\u001b[0;34m)\u001b[0m\u001b[0;34m:\u001b[0m\u001b[0;34m\u001b[0m\u001b[0;34m\u001b[0m\u001b[0m\n",
      "\u001b[0;32m~/opt/anaconda3/lib/python3.9/site-packages/sklearn/base.py\u001b[0m in \u001b[0;36m_validate_data\u001b[0;34m(self, X, y, reset, validate_separately, **check_params)\u001b[0m\n\u001b[1;32m    579\u001b[0m                 \u001b[0my\u001b[0m \u001b[0;34m=\u001b[0m \u001b[0mcheck_array\u001b[0m\u001b[0;34m(\u001b[0m\u001b[0my\u001b[0m\u001b[0;34m,\u001b[0m \u001b[0;34m**\u001b[0m\u001b[0mcheck_y_params\u001b[0m\u001b[0;34m)\u001b[0m\u001b[0;34m\u001b[0m\u001b[0;34m\u001b[0m\u001b[0m\n\u001b[1;32m    580\u001b[0m             \u001b[0;32melse\u001b[0m\u001b[0;34m:\u001b[0m\u001b[0;34m\u001b[0m\u001b[0;34m\u001b[0m\u001b[0m\n\u001b[0;32m--> 581\u001b[0;31m                 \u001b[0mX\u001b[0m\u001b[0;34m,\u001b[0m \u001b[0my\u001b[0m \u001b[0;34m=\u001b[0m \u001b[0mcheck_X_y\u001b[0m\u001b[0;34m(\u001b[0m\u001b[0mX\u001b[0m\u001b[0;34m,\u001b[0m \u001b[0my\u001b[0m\u001b[0;34m,\u001b[0m \u001b[0;34m**\u001b[0m\u001b[0mcheck_params\u001b[0m\u001b[0;34m)\u001b[0m\u001b[0;34m\u001b[0m\u001b[0;34m\u001b[0m\u001b[0m\n\u001b[0m\u001b[1;32m    582\u001b[0m             \u001b[0mout\u001b[0m \u001b[0;34m=\u001b[0m \u001b[0mX\u001b[0m\u001b[0;34m,\u001b[0m \u001b[0my\u001b[0m\u001b[0;34m\u001b[0m\u001b[0;34m\u001b[0m\u001b[0m\n\u001b[1;32m    583\u001b[0m \u001b[0;34m\u001b[0m\u001b[0m\n",
      "\u001b[0;32m~/opt/anaconda3/lib/python3.9/site-packages/sklearn/utils/validation.py\u001b[0m in \u001b[0;36mcheck_X_y\u001b[0;34m(X, y, accept_sparse, accept_large_sparse, dtype, order, copy, force_all_finite, ensure_2d, allow_nd, multi_output, ensure_min_samples, ensure_min_features, y_numeric, estimator)\u001b[0m\n\u001b[1;32m    962\u001b[0m         \u001b[0;32mraise\u001b[0m \u001b[0mValueError\u001b[0m\u001b[0;34m(\u001b[0m\u001b[0;34m\"y cannot be None\"\u001b[0m\u001b[0;34m)\u001b[0m\u001b[0;34m\u001b[0m\u001b[0;34m\u001b[0m\u001b[0m\n\u001b[1;32m    963\u001b[0m \u001b[0;34m\u001b[0m\u001b[0m\n\u001b[0;32m--> 964\u001b[0;31m     X = check_array(\n\u001b[0m\u001b[1;32m    965\u001b[0m         \u001b[0mX\u001b[0m\u001b[0;34m,\u001b[0m\u001b[0;34m\u001b[0m\u001b[0;34m\u001b[0m\u001b[0m\n\u001b[1;32m    966\u001b[0m         \u001b[0maccept_sparse\u001b[0m\u001b[0;34m=\u001b[0m\u001b[0maccept_sparse\u001b[0m\u001b[0;34m,\u001b[0m\u001b[0;34m\u001b[0m\u001b[0;34m\u001b[0m\u001b[0m\n",
      "\u001b[0;32m~/opt/anaconda3/lib/python3.9/site-packages/sklearn/utils/validation.py\u001b[0m in \u001b[0;36mcheck_array\u001b[0;34m(array, accept_sparse, accept_large_sparse, dtype, order, copy, force_all_finite, ensure_2d, allow_nd, ensure_min_samples, ensure_min_features, estimator)\u001b[0m\n\u001b[1;32m    798\u001b[0m \u001b[0;34m\u001b[0m\u001b[0m\n\u001b[1;32m    799\u001b[0m         \u001b[0;32mif\u001b[0m \u001b[0mforce_all_finite\u001b[0m\u001b[0;34m:\u001b[0m\u001b[0;34m\u001b[0m\u001b[0;34m\u001b[0m\u001b[0m\n\u001b[0;32m--> 800\u001b[0;31m             \u001b[0m_assert_all_finite\u001b[0m\u001b[0;34m(\u001b[0m\u001b[0marray\u001b[0m\u001b[0;34m,\u001b[0m \u001b[0mallow_nan\u001b[0m\u001b[0;34m=\u001b[0m\u001b[0mforce_all_finite\u001b[0m \u001b[0;34m==\u001b[0m \u001b[0;34m\"allow-nan\"\u001b[0m\u001b[0;34m)\u001b[0m\u001b[0;34m\u001b[0m\u001b[0;34m\u001b[0m\u001b[0m\n\u001b[0m\u001b[1;32m    801\u001b[0m \u001b[0;34m\u001b[0m\u001b[0m\n\u001b[1;32m    802\u001b[0m     \u001b[0;32mif\u001b[0m \u001b[0mensure_min_samples\u001b[0m \u001b[0;34m>\u001b[0m \u001b[0;36m0\u001b[0m\u001b[0;34m:\u001b[0m\u001b[0;34m\u001b[0m\u001b[0;34m\u001b[0m\u001b[0m\n",
      "\u001b[0;32m~/opt/anaconda3/lib/python3.9/site-packages/sklearn/utils/validation.py\u001b[0m in \u001b[0;36m_assert_all_finite\u001b[0;34m(X, allow_nan, msg_dtype)\u001b[0m\n\u001b[1;32m    112\u001b[0m         ):\n\u001b[1;32m    113\u001b[0m             \u001b[0mtype_err\u001b[0m \u001b[0;34m=\u001b[0m \u001b[0;34m\"infinity\"\u001b[0m \u001b[0;32mif\u001b[0m \u001b[0mallow_nan\u001b[0m \u001b[0;32melse\u001b[0m \u001b[0;34m\"NaN, infinity\"\u001b[0m\u001b[0;34m\u001b[0m\u001b[0;34m\u001b[0m\u001b[0m\n\u001b[0;32m--> 114\u001b[0;31m             raise ValueError(\n\u001b[0m\u001b[1;32m    115\u001b[0m                 msg_err.format(\n\u001b[1;32m    116\u001b[0m                     \u001b[0mtype_err\u001b[0m\u001b[0;34m,\u001b[0m \u001b[0mmsg_dtype\u001b[0m \u001b[0;32mif\u001b[0m \u001b[0mmsg_dtype\u001b[0m \u001b[0;32mis\u001b[0m \u001b[0;32mnot\u001b[0m \u001b[0;32mNone\u001b[0m \u001b[0;32melse\u001b[0m \u001b[0mX\u001b[0m\u001b[0;34m.\u001b[0m\u001b[0mdtype\u001b[0m\u001b[0;34m\u001b[0m\u001b[0;34m\u001b[0m\u001b[0m\n",
      "\u001b[0;31mValueError\u001b[0m: Input contains NaN, infinity or a value too large for dtype('float64')."
     ]
    }
   ],
   "source": [
    "# determine the optimal k-value for this algorithm\n",
    "\n",
    "# CLASSIFIER VERSION\n",
    "# adjust this to 50 or even 150 if you have lots of data rows\n",
    "# this has to always be less than the amount of rows\n",
    "# in the training data\n",
    "max_iterations = 50\n",
    "\n",
    "# list to save the error values in the loop\n",
    "error = []\n",
    "\n",
    "# the default metric in scikit-learn\n",
    "metric_selection = \"minkowski\"\n",
    "\n",
    "# Calculating error for K values between 1 and 40\n",
    "for i in range(1, max_iterations):\n",
    "\n",
    "     # try with current k-value, train the model and make a test prediction\n",
    "    knn = make_pipeline(StandardScaler(), KNeighborsClassifier(n_neighbors=i, metric=metric_selection))\n",
    "    knn.fit(X_train, y_train)\n",
    "    pred_i = knn.predict(X_test)\n",
    "\n",
    "    # save the error value for this k-value\n",
    "    error.append(np.mean(pred_i != y_test))\n",
    "    \n",
    "# plot all the k-values and their error values\n",
    "sns.lineplot(x=range(1, max_iterations), y=error, marker='o')\n",
    "plt.title('Error Rate K Value (choose k-value of lowest Mean Error)')\n",
    "plt.xlabel('K Value')\n",
    "plt.ylabel('Mean Error')\n",
    "\n",
    "# choose best k-value based on metrics\n",
    "# we have to add +1 to k-value, since argmin() returns an index\n",
    "# which starts from 0, but k-values start from 1\n",
    "print(\"Based on iterations, best k-value is this:\")\n",
    "k_value = np.argmin(error) + 1\n",
    "print(k_value)\n",
    "\n",
    "# build the model with the optimal values\n",
    "model = make_pipeline(StandardScaler(), KNeighborsClassifier(n_neighbors=k_value, metric=\"minkowski\"))\n",
    "model.fit(X_train, y_train)"
   ]
  },
  {
   "cell_type": "markdown",
   "id": "c03e1c74-5441-4956-81c9-97c0a89b1059",
   "metadata": {},
   "source": [
    "# Classification error metrics"
   ]
  },
  {
   "cell_type": "code",
   "execution_count": null,
   "id": "2d34ff3f-51de-4c7d-b978-ad538846aac9",
   "metadata": {},
   "outputs": [],
   "source": [
    "predictions = model.predict(X_test)"
   ]
  },
  {
   "cell_type": "code",
   "execution_count": null,
   "id": "037a35f7-7d46-4cef-9d8f-f72795334378",
   "metadata": {},
   "outputs": [],
   "source": [
    "# print the classification report based on true values and predictions\n",
    "print(classification_report(y_test, predictions))\n",
    "\n",
    "# get overall accuracy of the model and print it\n",
    "acc = accuracy_score(y_test, predictions)\n",
    "print(\"\\nModel overall accuracy: {:.2f}%\".format(acc * 100))"
   ]
  },
  {
   "cell_type": "code",
   "execution_count": null,
   "id": "a7c090ab-356a-4542-900a-755cdd8158f0",
   "metadata": {},
   "outputs": [],
   "source": [
    "sns.heatmap(confusion_matrix(y_test, predictions), annot=True)"
   ]
  },
  {
   "cell_type": "code",
   "execution_count": null,
   "id": "a8ad7518-926f-4692-8735-a60a145dcfc1",
   "metadata": {},
   "outputs": [],
   "source": [
    "print(confusion_matrix(y_test, predictions))"
   ]
  },
  {
   "cell_type": "code",
   "execution_count": null,
   "id": "97f66a1e-a6b2-42d0-b670-011405fb96e1",
   "metadata": {},
   "outputs": [],
   "source": [
    "# basically 0.5 means you could get the same result with just random guessing\n",
    "roc_auc_score(y_test.values, model.predict_proba(X_test)[:, 1])"
   ]
  },
  {
   "cell_type": "code",
   "execution_count": null,
   "id": "bac434ea-b1bc-4d1b-91f0-a5f21f6cb55e",
   "metadata": {},
   "outputs": [],
   "source": []
  }
 ],
 "metadata": {
  "kernelspec": {
   "display_name": "Python 3 (ipykernel)",
   "language": "python",
   "name": "python3"
  },
  "language_info": {
   "codemirror_mode": {
    "name": "ipython",
    "version": 3
   },
   "file_extension": ".py",
   "mimetype": "text/x-python",
   "name": "python",
   "nbconvert_exporter": "python",
   "pygments_lexer": "ipython3",
   "version": "3.9.13"
  }
 },
 "nbformat": 4,
 "nbformat_minor": 5
}
