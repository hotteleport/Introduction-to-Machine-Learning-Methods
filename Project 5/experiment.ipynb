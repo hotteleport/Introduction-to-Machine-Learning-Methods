{
 "cells": [
  {
   "cell_type": "code",
   "execution_count": 11,
   "id": "b72dd741-5a86-4a41-a3e1-685edcd93c60",
   "metadata": {},
   "outputs": [],
   "source": [
    "# import libraries\n",
    "import pandas as pd\n",
    "import numpy as np\n",
    "import matplotlib.pyplot as plt\n",
    "import seaborn as sns\n",
    "\n",
    "# pip install scikit-learn\n",
    "from sklearn.model_selection import train_test_split\n",
    "from sklearn import metrics\n",
    "from sklearn.pipeline import make_pipeline\n",
    "from sklearn.neighbors import KNeighborsClassifier\n",
    "from sklearn.preprocessing import MinMaxScaler, StandardScaler\n",
    "from sklearn.metrics import classification_report\n",
    "from sklearn.metrics import confusion_matrix\n",
    "from sklearn.metrics import accuracy_score\n",
    "from sklearn.metrics import roc_auc_score\n",
    "from sklearn.linear_model import LogisticRegression"
   ]
  },
  {
   "cell_type": "code",
   "execution_count": 12,
   "id": "ad62a3d1-4b68-438b-ab3b-1e4e76be3ac0",
   "metadata": {},
   "outputs": [],
   "source": [
    "# load the data\n",
    "df = pd.read_csv(\"data.csv\")"
   ]
  },
  {
   "cell_type": "code",
   "execution_count": 19,
   "id": "7573b1c4-e47d-45eb-947d-dce2c86bf1d7",
   "metadata": {},
   "outputs": [
    {
     "data": {
      "text/html": [
       "<div>\n",
       "<style scoped>\n",
       "    .dataframe tbody tr th:only-of-type {\n",
       "        vertical-align: middle;\n",
       "    }\n",
       "\n",
       "    .dataframe tbody tr th {\n",
       "        vertical-align: top;\n",
       "    }\n",
       "\n",
       "    .dataframe thead th {\n",
       "        text-align: right;\n",
       "    }\n",
       "</style>\n",
       "<table border=\"1\" class=\"dataframe\">\n",
       "  <thead>\n",
       "    <tr style=\"text-align: right;\">\n",
       "      <th></th>\n",
       "      <th>number of adults</th>\n",
       "      <th>number of children</th>\n",
       "      <th>number of weekend nights</th>\n",
       "      <th>number of week nights</th>\n",
       "      <th>type of meal</th>\n",
       "      <th>car parking space</th>\n",
       "      <th>room type</th>\n",
       "      <th>lead time</th>\n",
       "      <th>market segment type</th>\n",
       "      <th>repeated</th>\n",
       "      <th>P-C</th>\n",
       "      <th>P-not-C</th>\n",
       "      <th>average price</th>\n",
       "      <th>special requests</th>\n",
       "      <th>date of reservation</th>\n",
       "      <th>booking status</th>\n",
       "    </tr>\n",
       "  </thead>\n",
       "  <tbody>\n",
       "    <tr>\n",
       "      <th>count</th>\n",
       "      <td>36248.000000</td>\n",
       "      <td>36248.000000</td>\n",
       "      <td>36248.000000</td>\n",
       "      <td>36248.000000</td>\n",
       "      <td>36248.000000</td>\n",
       "      <td>36248.000000</td>\n",
       "      <td>36248.000000</td>\n",
       "      <td>36248.000000</td>\n",
       "      <td>36248.000000</td>\n",
       "      <td>36248.000000</td>\n",
       "      <td>36248.000000</td>\n",
       "      <td>36248.000000</td>\n",
       "      <td>36248.000000</td>\n",
       "      <td>36248.000000</td>\n",
       "      <td>3.624800e+04</td>\n",
       "      <td>36248.000000</td>\n",
       "    </tr>\n",
       "    <tr>\n",
       "      <th>mean</th>\n",
       "      <td>1.845178</td>\n",
       "      <td>0.105302</td>\n",
       "      <td>0.810445</td>\n",
       "      <td>2.204508</td>\n",
       "      <td>0.516056</td>\n",
       "      <td>0.030926</td>\n",
       "      <td>0.708425</td>\n",
       "      <td>85.282360</td>\n",
       "      <td>3.552720</td>\n",
       "      <td>0.025546</td>\n",
       "      <td>0.023339</td>\n",
       "      <td>0.152919</td>\n",
       "      <td>103.435350</td>\n",
       "      <td>0.620034</td>\n",
       "      <td>2.017896e+07</td>\n",
       "      <td>0.672203</td>\n",
       "    </tr>\n",
       "    <tr>\n",
       "      <th>std</th>\n",
       "      <td>0.518671</td>\n",
       "      <td>0.402597</td>\n",
       "      <td>0.870938</td>\n",
       "      <td>1.410825</td>\n",
       "      <td>1.048506</td>\n",
       "      <td>0.173119</td>\n",
       "      <td>1.399401</td>\n",
       "      <td>85.961536</td>\n",
       "      <td>0.681269</td>\n",
       "      <td>0.157779</td>\n",
       "      <td>0.368432</td>\n",
       "      <td>1.753126</td>\n",
       "      <td>35.081308</td>\n",
       "      <td>0.786429</td>\n",
       "      <td>3.751200e+03</td>\n",
       "      <td>0.469417</td>\n",
       "    </tr>\n",
       "    <tr>\n",
       "      <th>min</th>\n",
       "      <td>0.000000</td>\n",
       "      <td>0.000000</td>\n",
       "      <td>0.000000</td>\n",
       "      <td>0.000000</td>\n",
       "      <td>0.000000</td>\n",
       "      <td>0.000000</td>\n",
       "      <td>0.000000</td>\n",
       "      <td>0.000000</td>\n",
       "      <td>0.000000</td>\n",
       "      <td>0.000000</td>\n",
       "      <td>0.000000</td>\n",
       "      <td>0.000000</td>\n",
       "      <td>0.000000</td>\n",
       "      <td>0.000000</td>\n",
       "      <td>2.015100e+07</td>\n",
       "      <td>0.000000</td>\n",
       "    </tr>\n",
       "    <tr>\n",
       "      <th>25%</th>\n",
       "      <td>2.000000</td>\n",
       "      <td>0.000000</td>\n",
       "      <td>0.000000</td>\n",
       "      <td>1.000000</td>\n",
       "      <td>0.000000</td>\n",
       "      <td>0.000000</td>\n",
       "      <td>0.000000</td>\n",
       "      <td>17.000000</td>\n",
       "      <td>3.000000</td>\n",
       "      <td>0.000000</td>\n",
       "      <td>0.000000</td>\n",
       "      <td>0.000000</td>\n",
       "      <td>80.300000</td>\n",
       "      <td>0.000000</td>\n",
       "      <td>2.018023e+07</td>\n",
       "      <td>0.000000</td>\n",
       "    </tr>\n",
       "    <tr>\n",
       "      <th>50%</th>\n",
       "      <td>2.000000</td>\n",
       "      <td>0.000000</td>\n",
       "      <td>1.000000</td>\n",
       "      <td>2.000000</td>\n",
       "      <td>0.000000</td>\n",
       "      <td>0.000000</td>\n",
       "      <td>0.000000</td>\n",
       "      <td>57.000000</td>\n",
       "      <td>4.000000</td>\n",
       "      <td>0.000000</td>\n",
       "      <td>0.000000</td>\n",
       "      <td>0.000000</td>\n",
       "      <td>99.450000</td>\n",
       "      <td>0.000000</td>\n",
       "      <td>2.018061e+07</td>\n",
       "      <td>1.000000</td>\n",
       "    </tr>\n",
       "    <tr>\n",
       "      <th>75%</th>\n",
       "      <td>2.000000</td>\n",
       "      <td>0.000000</td>\n",
       "      <td>2.000000</td>\n",
       "      <td>3.000000</td>\n",
       "      <td>0.000000</td>\n",
       "      <td>0.000000</td>\n",
       "      <td>0.000000</td>\n",
       "      <td>126.000000</td>\n",
       "      <td>4.000000</td>\n",
       "      <td>0.000000</td>\n",
       "      <td>0.000000</td>\n",
       "      <td>0.000000</td>\n",
       "      <td>120.000000</td>\n",
       "      <td>1.000000</td>\n",
       "      <td>2.018092e+07</td>\n",
       "      <td>1.000000</td>\n",
       "    </tr>\n",
       "    <tr>\n",
       "      <th>max</th>\n",
       "      <td>4.000000</td>\n",
       "      <td>10.000000</td>\n",
       "      <td>7.000000</td>\n",
       "      <td>17.000000</td>\n",
       "      <td>3.000000</td>\n",
       "      <td>1.000000</td>\n",
       "      <td>6.000000</td>\n",
       "      <td>443.000000</td>\n",
       "      <td>4.000000</td>\n",
       "      <td>1.000000</td>\n",
       "      <td>13.000000</td>\n",
       "      <td>58.000000</td>\n",
       "      <td>540.000000</td>\n",
       "      <td>5.000000</td>\n",
       "      <td>2.018123e+07</td>\n",
       "      <td>1.000000</td>\n",
       "    </tr>\n",
       "  </tbody>\n",
       "</table>\n",
       "</div>"
      ],
      "text/plain": [
       "       number of adults  number of children  number of weekend nights  \\\n",
       "count      36248.000000        36248.000000              36248.000000   \n",
       "mean           1.845178            0.105302                  0.810445   \n",
       "std            0.518671            0.402597                  0.870938   \n",
       "min            0.000000            0.000000                  0.000000   \n",
       "25%            2.000000            0.000000                  0.000000   \n",
       "50%            2.000000            0.000000                  1.000000   \n",
       "75%            2.000000            0.000000                  2.000000   \n",
       "max            4.000000           10.000000                  7.000000   \n",
       "\n",
       "       number of week nights  type of meal  car parking space     room type  \\\n",
       "count           36248.000000  36248.000000       36248.000000  36248.000000   \n",
       "mean                2.204508      0.516056           0.030926      0.708425   \n",
       "std                 1.410825      1.048506           0.173119      1.399401   \n",
       "min                 0.000000      0.000000           0.000000      0.000000   \n",
       "25%                 1.000000      0.000000           0.000000      0.000000   \n",
       "50%                 2.000000      0.000000           0.000000      0.000000   \n",
       "75%                 3.000000      0.000000           0.000000      0.000000   \n",
       "max                17.000000      3.000000           1.000000      6.000000   \n",
       "\n",
       "          lead time  market segment type      repeated           P-C  \\\n",
       "count  36248.000000         36248.000000  36248.000000  36248.000000   \n",
       "mean      85.282360             3.552720      0.025546      0.023339   \n",
       "std       85.961536             0.681269      0.157779      0.368432   \n",
       "min        0.000000             0.000000      0.000000      0.000000   \n",
       "25%       17.000000             3.000000      0.000000      0.000000   \n",
       "50%       57.000000             4.000000      0.000000      0.000000   \n",
       "75%      126.000000             4.000000      0.000000      0.000000   \n",
       "max      443.000000             4.000000      1.000000     13.000000   \n",
       "\n",
       "            P-not-C  average price  special requests  date of reservation  \\\n",
       "count  36248.000000   36248.000000      36248.000000         3.624800e+04   \n",
       "mean       0.152919     103.435350          0.620034         2.017896e+07   \n",
       "std        1.753126      35.081308          0.786429         3.751200e+03   \n",
       "min        0.000000       0.000000          0.000000         2.015100e+07   \n",
       "25%        0.000000      80.300000          0.000000         2.018023e+07   \n",
       "50%        0.000000      99.450000          0.000000         2.018061e+07   \n",
       "75%        0.000000     120.000000          1.000000         2.018092e+07   \n",
       "max       58.000000     540.000000          5.000000         2.018123e+07   \n",
       "\n",
       "       booking status  \n",
       "count    36248.000000  \n",
       "mean         0.672203  \n",
       "std          0.469417  \n",
       "min          0.000000  \n",
       "25%          0.000000  \n",
       "50%          1.000000  \n",
       "75%          1.000000  \n",
       "max          1.000000  "
      ]
     },
     "execution_count": 19,
     "metadata": {},
     "output_type": "execute_result"
    }
   ],
   "source": [
    "df.describe()"
   ]
  },
  {
   "cell_type": "code",
   "execution_count": 22,
   "id": "d643405f-5e41-4b29-b253-1e857cff1d12",
   "metadata": {},
   "outputs": [
    {
     "name": "stderr",
     "output_type": "stream",
     "text": [
      "/var/folders/lj/tcwl5glj0blfftjn4df0129r0000gn/T/ipykernel_39567/2361371769.py:2: UserWarning: \n",
      "\n",
      "`distplot` is a deprecated function and will be removed in seaborn v0.14.0.\n",
      "\n",
      "Please adapt your code to use either `displot` (a figure-level function with\n",
      "similar flexibility) or `histplot` (an axes-level function for histograms).\n",
      "\n",
      "For a guide to updating your code to use the new functions, please see\n",
      "https://gist.github.com/mwaskom/de44147ed2974457ad6372750bbe5751\n",
      "\n",
      "  sns.distplot(df['booking status'])\n"
     ]
    },
    {
     "data": {
      "text/plain": [
       "<Axes: xlabel='booking status', ylabel='Density'>"
      ]
     },
     "execution_count": 22,
     "metadata": {},
     "output_type": "execute_result"
    },
    {
     "data": {
      "image/png": "[encoded data removed]",
      "text/plain": [
       "<Figure size 640x480 with 1 Axes>"
      ]
     },
     "metadata": {},
     "output_type": "display_data"
    }
   ],
   "source": [
    "# quick chart, how is experience distributed in data\n",
    "sns.distplot(df['booking status'])\n",
    "\n",
    "# data is inbalanced\n",
    "# the logreg could work worse"
   ]
  },
  {
   "cell_type": "code",
   "execution_count": 13,
   "id": "0e02c630-a425-4363-89a8-130932ad7c5c",
   "metadata": {},
   "outputs": [],
   "source": [
    "# X/y -split\n",
    "X = df.drop('booking status', axis=1)\n",
    "y = df['booking status']"
   ]
  },
  {
   "cell_type": "code",
   "execution_count": 14,
   "id": "80b84717-202e-4f7e-b929-68dd8212ae36",
   "metadata": {},
   "outputs": [],
   "source": [
    "X_train, X_test, y_train, y_test = train_test_split(X, y, test_size=0.25)"
   ]
  },
  {
   "cell_type": "code",
   "execution_count": 15,
   "id": "c1811f61-e362-49c2-985b-5e23d14e50e9",
   "metadata": {},
   "outputs": [],
   "source": [
    "# initialize the scaler and process X-values\n",
    "from sklearn.preprocessing import StandardScaler\n",
    "sc = StandardScaler()\n",
    "X_train = sc.fit_transform(X_train)\n",
    "X_test = sc.transform(X_test)"
   ]
  },
  {
   "cell_type": "code",
   "execution_count": 16,
   "id": "95ca6433-427f-4701-8306-1b2db8ddcaf3",
   "metadata": {},
   "outputs": [
    {
     "data": {
      "text/html": [
       "<style>#sk-container-id-2 {color: black;background-color: white;}#sk-container-id-2 pre{padding: 0;}#sk-container-id-2 div.sk-toggleable {background-color: white;}#sk-container-id-2 label.sk-toggleable__label {cursor: pointer;display: block;width: 100%;margin-bottom: 0;padding: 0.3em;box-sizing: border-box;text-align: center;}#sk-container-id-2 label.sk-toggleable__label-arrow:before {content: \"▸\";float: left;margin-right: 0.25em;color: #696969;}#sk-container-id-2 label.sk-toggleable__label-arrow:hover:before {color: black;}#sk-container-id-2 div.sk-estimator:hover label.sk-toggleable__label-arrow:before {color: black;}#sk-container-id-2 div.sk-toggleable__content {max-height: 0;max-width: 0;overflow: hidden;text-align: left;background-color: #f0f8ff;}#sk-container-id-2 div.sk-toggleable__content pre {margin: 0.2em;color: black;border-radius: 0.25em;background-color: #f0f8ff;}#sk-container-id-2 input.sk-toggleable__control:checked~div.sk-toggleable__content {max-height: 200px;max-width: 100%;overflow: auto;}#sk-container-id-2 input.sk-toggleable__control:checked~label.sk-toggleable__label-arrow:before {content: \"▾\";}#sk-container-id-2 div.sk-estimator input.sk-toggleable__control:checked~label.sk-toggleable__label {background-color: #d4ebff;}#sk-container-id-2 div.sk-label input.sk-toggleable__control:checked~label.sk-toggleable__label {background-color: #d4ebff;}#sk-container-id-2 input.sk-hidden--visually {border: 0;clip: rect(1px 1px 1px 1px);clip: rect(1px, 1px, 1px, 1px);height: 1px;margin: -1px;overflow: hidden;padding: 0;position: absolute;width: 1px;}#sk-container-id-2 div.sk-estimator {font-family: monospace;background-color: #f0f8ff;border: 1px dotted black;border-radius: 0.25em;box-sizing: border-box;margin-bottom: 0.5em;}#sk-container-id-2 div.sk-estimator:hover {background-color: #d4ebff;}#sk-container-id-2 div.sk-parallel-item::after {content: \"\";width: 100%;border-bottom: 1px solid gray;flex-grow: 1;}#sk-container-id-2 div.sk-label:hover label.sk-toggleable__label {background-color: #d4ebff;}#sk-container-id-2 div.sk-serial::before {content: \"\";position: absolute;border-left: 1px solid gray;box-sizing: border-box;top: 0;bottom: 0;left: 50%;z-index: 0;}#sk-container-id-2 div.sk-serial {display: flex;flex-direction: column;align-items: center;background-color: white;padding-right: 0.2em;padding-left: 0.2em;position: relative;}#sk-container-id-2 div.sk-item {position: relative;z-index: 1;}#sk-container-id-2 div.sk-parallel {display: flex;align-items: stretch;justify-content: center;background-color: white;position: relative;}#sk-container-id-2 div.sk-item::before, #sk-container-id-2 div.sk-parallel-item::before {content: \"\";position: absolute;border-left: 1px solid gray;box-sizing: border-box;top: 0;bottom: 0;left: 50%;z-index: -1;}#sk-container-id-2 div.sk-parallel-item {display: flex;flex-direction: column;z-index: 1;position: relative;background-color: white;}#sk-container-id-2 div.sk-parallel-item:first-child::after {align-self: flex-end;width: 50%;}#sk-container-id-2 div.sk-parallel-item:last-child::after {align-self: flex-start;width: 50%;}#sk-container-id-2 div.sk-parallel-item:only-child::after {width: 0;}#sk-container-id-2 div.sk-dashed-wrapped {border: 1px dashed gray;margin: 0 0.4em 0.5em 0.4em;box-sizing: border-box;padding-bottom: 0.4em;background-color: white;}#sk-container-id-2 div.sk-label label {font-family: monospace;font-weight: bold;display: inline-block;line-height: 1.2em;}#sk-container-id-2 div.sk-label-container {text-align: center;}#sk-container-id-2 div.sk-container {/* jupyter's `normalize.less` sets `[hidden] { display: none; }` but bootstrap.min.css set `[hidden] { display: none !important; }` so we also need the `!important` here to be able to override the default hidden behavior on the sphinx rendered scikit-learn.org. See: https://github.com/scikit-learn/scikit-learn/issues/21755 */display: inline-block !important;position: relative;}#sk-container-id-2 div.sk-text-repr-fallback {display: none;}</style><div id=\"sk-container-id-2\" class=\"sk-top-container\"><div class=\"sk-text-repr-fallback\"><pre>LogisticRegression()</pre><b>In a Jupyter environment, please rerun this cell to show the HTML representation or trust the notebook. <br />On GitHub, the HTML representation is unable to render, please try loading this page with nbviewer.org.</b></div><div class=\"sk-container\" hidden><div class=\"sk-item\"><div class=\"sk-estimator sk-toggleable\"><input class=\"sk-toggleable__control sk-hidden--visually\" id=\"sk-estimator-id-2\" type=\"checkbox\" checked><label for=\"sk-estimator-id-2\" class=\"sk-toggleable__label sk-toggleable__label-arrow\">LogisticRegression</label><div class=\"sk-toggleable__content\"><pre>LogisticRegression()</pre></div></div></div></div></div>"
      ],
      "text/plain": [
       "LogisticRegression()"
      ]
     },
     "execution_count": 16,
     "metadata": {},
     "output_type": "execute_result"
    }
   ],
   "source": [
    "logmodel = LogisticRegression()\n",
    "logmodel.fit(X_train, y_train)"
   ]
  },
  {
   "cell_type": "code",
   "execution_count": 20,
   "id": "7ba102f7-dd4c-4276-9256-9f8212243e11",
   "metadata": {},
   "outputs": [],
   "source": [
    "# make test predictions with new data with our model\n",
    "predictions = logmodel.predict(X_test)"
   ]
  },
  {
   "cell_type": "code",
   "execution_count": 21,
   "id": "dcc44dc0-72af-49c8-ad3f-d59fee037100",
   "metadata": {},
   "outputs": [
    {
     "name": "stdout",
     "output_type": "stream",
     "text": [
      "              precision    recall  f1-score   support\n",
      "\n",
      "           0       0.74      0.62      0.67      3035\n",
      "           1       0.82      0.89      0.86      6027\n",
      "\n",
      "    accuracy                           0.80      9062\n",
      "   macro avg       0.78      0.75      0.77      9062\n",
      "weighted avg       0.80      0.80      0.80      9062\n",
      "\n",
      "\n",
      "Model overall accuracy: 80.06%\n"
     ]
    }
   ],
   "source": [
    "# print the classification report based on true values and predictions\n",
    "print(classification_report(y_test, predictions))\n",
    "\n",
    "# get overall accuracy of the model and print it\n",
    "acc = accuracy_score(y_test, predictions)\n",
    "print(\"\\nModel overall accuracy: {:.2f}%\".format(acc * 100))"
   ]
  },
  {
   "cell_type": "code",
   "execution_count": null,
   "id": "18b7b1bb-5550-43e9-a308-7e1f3ce515e9",
   "metadata": {},
   "outputs": [],
   "source": [
    "# results even worse\n",
    "# maybe there is Non-linearity in data"
   ]
  }
 ],
 "metadata": {
  "kernelspec": {
   "display_name": "Python 3 (ipykernel)",
   "language": "python",
   "name": "python3"
  },
  "language_info": {
   "codemirror_mode": {
    "name": "ipython",
    "version": 3
   },
   "file_extension": ".py",
   "mimetype": "text/x-python",
   "name": "python",
   "nbconvert_exporter": "python",
   "pygments_lexer": "ipython3",
   "version": "3.10.9"
  }
 },
 "nbformat": 4,
 "nbformat_minor": 5
}
